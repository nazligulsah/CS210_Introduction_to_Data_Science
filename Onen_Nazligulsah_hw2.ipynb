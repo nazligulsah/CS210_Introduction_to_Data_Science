{
  "nbformat": 4,
  "nbformat_minor": 0,
  "metadata": {
    "kernelspec": {
      "display_name": "Python 3",
      "language": "python",
      "name": "python3"
    },
    "language_info": {
      "codemirror_mode": {
        "name": "ipython",
        "version": 3
      },
      "file_extension": ".py",
      "mimetype": "text/x-python",
      "name": "python",
      "nbconvert_exporter": "python",
      "pygments_lexer": "ipython3",
      "version": "3.6.7"
    },
    "colab": {
      "provenance": [],
      "include_colab_link": true
    }
  },
  "cells": [
    {
      "cell_type": "markdown",
      "metadata": {
        "id": "view-in-github",
        "colab_type": "text"
      },
      "source": [
        "<a href=\"https://colab.research.google.com/github/nazligulsah/CS210_Introduction_to_Data_Science/blob/main/Onen_Nazligulsah_hw2.ipynb\" target=\"_parent\"><img src=\"https://colab.research.google.com/assets/colab-badge.svg\" alt=\"Open In Colab\"/></a>"
      ]
    },
    {
      "cell_type": "markdown",
      "metadata": {
        "id": "ldMgDPWh6KZJ"
      },
      "source": [
        "#Homework 2: Drug Side Effects\n",
        "\n",
        "*In the second homework, you are going to work with SIDER side effects dataset.*\n",
        "\n",
        "**Submission Instructions**\n",
        "\n",
        "---\n",
        "It is important that you follow the submission instructions. \n",
        "1. Copy this assignment notebook to your Drive. <font color = 'red'> `File` --> `Save a copy in Drive`</font>. Rename it as <font color = 'green'>`Lastname_Firstname_hw1`</font>.\n",
        "\n",
        "2. Write your solutions in the cells  marked <font color = 'green'>`# your code`</font>.\n",
        "\n",
        "3. Do not delete your outputs. They are essential for the grading. Make sure that cells containing your solutions are executed, and the results are displayed on the notebook.\n",
        "\n",
        "4. When you're done please submit your solutions as an <font color=\"red\">`.ipynb`</font> file. To do so:\n",
        "\n",
        "\n",
        "1.  Click on <font color=\"red\">`File`</font>  at the top left on the Colab screen, then click on <font color = 'red'>`Download .ipynb`</font>.\n",
        "2.   Then submit the downloaded <font color=\"red\">`.ipynb`</font> version of your work on SUCourse.\n",
        "\n",
        "\n",
        "For any question, you may send an email to the TAs and LAs.\n",
        "\n",
        "---"
      ]
    },
    {
      "cell_type": "markdown",
      "metadata": {
        "id": "pSp2PnhBSssR"
      },
      "source": [
        "In this homework, you will work on a dataset from [SIDER Side Effect Resource](http://sideeffects.embl.de/). SIDER contains information on marketed drugs and their recorded adverse drug reactions (ADR).\n",
        "\n",
        "For this homework, you will use the provided file `meddra_all_se.csv`. This is a modified and simplified version of the original dataset, which contains possible side effects of different drugs.\n",
        "<!-- This is not the original data file, we modified and eliminated some parts to make your work easier. -->\n",
        "\n",
        "As listed in their prospectives, drugs can cause some side effects besides their healing properties. This dataset simply contains entries of drugs and their potential side effects.\n",
        "\n",
        "In the dataset, each row has 4 attribute values separated with `,`. These attributes are described in the list below with their respective order in the dataset.\n",
        "\n",
        "\n",
        "  1.   **STITCH compound id:** Refers to ID of a particular drug \n",
        "\n",
        "  2.   **UMLS concept id:** Unified Medical Language System ID\n",
        "\n",
        "  3.   **UMLS concept id for MedDRA term** \n",
        "\n",
        "  4.   **Side effect name:** Contains the possible side effect entry.\n",
        "\n",
        "**You will consider the STITCH compound id as the id of a particular drug. Therefore, rows with the same STITCH compound id refer to possible side effects of the same particular drug.**\n",
        "\n",
        "A snapshot from the dataset containing three sample rows is also provided below.\n",
        "```\n",
        "...\n",
        "CID100000085,CID000010917,C0015230,Rash\n",
        "CID100000085,CID000010917,C0015397,Eye disorder\n",
        "CID100000085,CID000010917,C0015967,Body temperature increased\n",
        "\n",
        "...\n",
        "```\n",
        "\n",
        "*Do not forget to add the shared `meddra_all_se.csv` file to your drive and mount to your drive. Otherwise, you won't be able to read the file.*\n",
        "\n",
        "**!!!You are not allowed to use `pandas` in this homework**"
      ]
    },
    {
      "cell_type": "code",
      "metadata": {
        "id": "NQS682uLXZWr"
      },
      "source": [
        "import numpy as np\n",
        "import matplotlib.pyplot as plt\n",
        "from os.path import join\n",
        "\n",
        "%matplotlib inline"
      ],
      "execution_count": null,
      "outputs": []
    },
    {
      "cell_type": "code",
      "metadata": {
        "id": "8VzWuGps4xl_",
        "outputId": "e1058017-3a00-4e53-b015-655191cbbbba",
        "colab": {
          "base_uri": "https://localhost:8080/"
        }
      },
      "source": [
        "from google.colab import drive\n",
        "drive.mount('./drive', force_remount=True)\n",
        "\n",
        "path_prefix = \"./drive/My Drive\""
      ],
      "execution_count": null,
      "outputs": [
        {
          "output_type": "stream",
          "text": [
            "Mounted at ./drive\n"
          ],
          "name": "stdout"
        }
      ]
    },
    {
      "cell_type": "markdown",
      "metadata": {
        "id": "K6GWzFj_rQ5J"
      },
      "source": [
        "## Q1: Descriptive Statistics of the Dataset\n",
        "\n",
        "In this question, your task is to gather some descriptive information about the dataset. To do this, first read the provided dataset and store it in a 2 dimensional numpy array. Then, print the listed descriptive statistics about the dataset.\n",
        "\n",
        "*   Shape of the dataset, i.e. number of rows and columns\n",
        "*   Number of unique drugs \n",
        "*   Number of unique side effects"
      ]
    },
    {
      "cell_type": "code",
      "metadata": {
        "id": "S36mQBwjvz2i",
        "outputId": "01b748eb-b283-471b-a6a7-62d826d6a68a",
        "colab": {
          "base_uri": "https://localhost:8080/"
        }
      },
      "source": [
        "# your code\n",
        "from google.colab import drive\n",
        "drive.mount(\"./drive/\", force_remount=True)\n",
        "import numpy as np \n",
        "import operator\n",
        "\n",
        "path = \"./drive/My Drive/\"\n",
        "fname = \"meddra_all_se.csv\"\n",
        "\n",
        "with open(path + fname, \"r\") as f:\n",
        "    lis = [line.split(',') for line in f] #create lis split line with comma\n",
        "    arr = np.array(lis) # creating 2d numpy array\n",
        "\n",
        "print(arr.shape)\n",
        "# crate the set of drugs so we can find number of unique drugs\n",
        "b = {}\n",
        "for j in arr:\n",
        "  b[j[0]] = 1\n",
        "print(len(b))\n",
        "#create the set of drugs to find number of unique side effects\n",
        "a = {}\n",
        "for i in arr:\n",
        "  a[i[3]] =1\n",
        "print(len(a))\n",
        "\n",
        "\n"
      ],
      "execution_count": null,
      "outputs": [
        {
          "output_type": "stream",
          "text": [
            "Mounted at ./drive/\n",
            "(91281, 4)\n",
            "953\n",
            "5064\n"
          ],
          "name": "stdout"
        }
      ]
    },
    {
      "cell_type": "code",
      "metadata": {
        "id": "CpGTWnR-mbI3",
        "outputId": "c3e4c097-6b0f-478c-904a-8d53c2ae8a8e",
        "colab": {
          "base_uri": "https://localhost:8080/"
        }
      },
      "source": [
        "from google.colab import drive\n",
        "drive.mount('/content/drive')"
      ],
      "execution_count": null,
      "outputs": [
        {
          "output_type": "stream",
          "text": [
            "Mounted at /content/drive\n"
          ],
          "name": "stdout"
        }
      ]
    },
    {
      "cell_type": "markdown",
      "metadata": {
        "id": "QaM_N7VbvjNd"
      },
      "source": [
        "## Q2: Side Effects of Drugs"
      ]
    },
    {
      "cell_type": "markdown",
      "metadata": {
        "id": "rDTZdak-vBEF"
      },
      "source": [
        "### Part A \n",
        "\n",
        "As explained above, side effect entries in the dataset correspond to possible side effects of different drugs.\n",
        "\n",
        "In this part, your goal is to find the drug which has the most side effects in the dataset. <!-- Print the `drug id` *(STITCH compound id)* of that drug and `number of its indications`. --> Print the `drug id` *(STITCH compound id)* of that drug and print the number of possible side effects (indications) it has.\n",
        "\n",
        "Print your results in the following format.\n",
        "\n",
        "``` py\n",
        "drug id: CID100002771\n",
        "number of side effects: 766\n",
        "```\n",
        "\n",
        "\n"
      ]
    },
    {
      "cell_type": "code",
      "metadata": {
        "id": "HgNzsbgMvT_l",
        "outputId": "0b327b93-43ca-4e00-d20f-9fe05558edf1",
        "colab": {
          "base_uri": "https://localhost:8080/"
        }
      },
      "source": [
        "# your code\n",
        "a = {}    \n",
        "for i in arr:\n",
        "  if i[0] in a:\n",
        "    a[i[0]]+=1\n",
        "  else:\n",
        "    a[i[0]]=1\n",
        "\n",
        "max=0\n",
        "element=\"\"\n",
        "for i,j in a.items():\n",
        "  if j > max:\n",
        "    max=j\n",
        "    element=i\n",
        "\n",
        "print(\"drug id: \" + element)\n",
        "\n",
        "print(\"number of side effects: \"+ str(max))\n"
      ],
      "execution_count": null,
      "outputs": [
        {
          "output_type": "stream",
          "text": [
            "drug id: CID100002771\n",
            "number of side effects: 766\n"
          ],
          "name": "stdout"
        }
      ]
    },
    {
      "cell_type": "markdown",
      "metadata": {
        "id": "QB1vuzhZp1xt"
      },
      "source": [
        "### Part B \n",
        "\n",
        "Now, find the number of side effects for all drugs and display its distribution as an histogram.\n",
        "\n",
        "An exemplary figure can be observed below.\n",
        "\n",
        "![](https://i.ibb.co/7zPSnkR/hist.jpg)\n",
        "\n"
      ]
    },
    {
      "cell_type": "code",
      "metadata": {
        "id": "gByAdVaJvUz8",
        "outputId": "0272c1d2-ffbb-4b67-c81e-a616c81572e6",
        "colab": {
          "base_uri": "https://localhost:8080/",
          "height": 295
        }
      },
      "source": [
        "# your code\n",
        "import matplotlib.pyplot as plt\n",
        "from os.path import join\n",
        "\n",
        "lis = []\n",
        "for i,j in a.items():\n",
        "# x.append(i)\n",
        " lis.append(j)\n",
        "y = np.array(lis)\n",
        "#print(x)\n",
        "#print(y)\n",
        "plt.hist(y, \"scott\",)\n",
        "#plt.ylim(0,299)\n",
        "plt.title(\"The Number of Side Effects per Drug\")\n",
        "plt.xlabel(\"Number of Side Effects\")\n",
        "plt.ylabel(\"Frequency\")\n",
        "plt.show()\n",
        "\n",
        " "
      ],
      "execution_count": null,
      "outputs": [
        {
          "output_type": "display_data",
          "data": {
            "image/png": "[encoded data removed]",
            "text/plain": [
              "<Figure size 432x288 with 1 Axes>"
            ]
          },
          "metadata": {
            "tags": [],
            "needs_background": "light"
          }
        }
      ]
    },
    {
      "cell_type": "markdown",
      "metadata": {
        "id": "0M6JfX5cp7Zv"
      },
      "source": [
        "## Q3: The Most Frequent Side Effects\n",
        "\n",
        "Here, you are going to analyze side effects that can be more commonly caused by drugs. \n",
        "\n",
        "Since we have a dataset of drugs and their potential side effects, one of the first question that comes to mind is to see the most common side effects of these drugs.\n",
        "\n",
        "*   Plot a `bar chart` to show most frequent 15 side effects of the dataset.\n",
        "\n",
        "![](https://i.ibb.co/Y8nQr3p/barh.jpg)\n",
        "\n",
        "*You can choose to make the bar chart with a different style, but the bars should look like the chart above.* \n"
      ]
    },
    {
      "cell_type": "code",
      "metadata": {
        "id": "prRpUH5bgSNi",
        "outputId": "a247881d-25fa-4d32-f41e-72ba2e78507f",
        "colab": {
          "base_uri": "https://localhost:8080/",
          "height": 295
        }
      },
      "source": [
        "# your code\n",
        "import matplotlib.pyplot as plt\n",
        "from os.path import join\n",
        "a = {}    \n",
        "for i in arr:\n",
        "  if i[3] in a:\n",
        "    a[i[3]]+=1\n",
        "  else:\n",
        "    a[i[3]]=1\n",
        "max = 0\n",
        "maxList = []\n",
        "elementList = []\n",
        "for i,j in a.items():\n",
        "  if j > max:\n",
        "    maxList.append(j)\n",
        "    element = i\n",
        "    elementList.append(element)\n",
        "#create zip list consist of number of side effects and name of side effects\n",
        "data = sorted(zip(maxList, elementList)) \n",
        "#take 15 most frequent side effects\n",
        "newdata = (data[len(data)-15:len(data)])\n",
        "newdata.reverse()\n",
        "x_values = []\n",
        "y_values = []\n",
        "for i in range(15):\n",
        "  y_values.append(newdata[i][0])\n",
        "  x_values.append(newdata[i][1])\n",
        "#print(x_values)\n",
        "#print(y_values)\n",
        "plt.barh(x_values,y_values ,color='green')\n",
        "plt.xlabel(\"Frequecy\")\n",
        "plt.ylabel(\"Side Effects\")\n",
        "plt.title(\"Top 15 Most Frequent Side Effects\")\n",
        "\n",
        "\n",
        "plt.show()"
      ],
      "execution_count": null,
      "outputs": [
        {
          "output_type": "display_data",
          "data": {
            "image/png": "[encoded data removed]",
            "text/plain": [
              "<Figure size 432x288 with 1 Axes>"
            ]
          },
          "metadata": {
            "tags": [],
            "needs_background": "light"
          }
        }
      ]
    },
    {
      "cell_type": "markdown",
      "metadata": {
        "id": "cpic0BLlp95Z"
      },
      "source": [
        "## Q4: Conditional Probability\n",
        "\n",
        "In Probability Theory, conditional probability is a measure of the probability of an event occurring, given that another event has already occurred. The formula for the conditional probability is shared below.\n",
        "\n",
        "```\n",
        "P(B|A) = P(A and B) / P(A)\n",
        "```\n",
        "\n",
        "As also suggested by our dataset, drugs can have multiple side effects. With the conditional probability, we can study the chances of a particular side effect with a given presence of another one.\n",
        "\n",
        "So, the following question can be answered with our dataset. \n",
        "\n",
        "**If a drug has `Headache` side effect, what is the probability it also has `Vomiting` side effect?**\n",
        "\n",
        "Please calculate this conditional probability from the dataset and report the resulting probability score."
      ]
    },
    {
      "cell_type": "code",
      "metadata": {
        "id": "a26lkrlt27qr",
        "outputId": "aef739a6-6cb2-4bab-f964-35d29e14b589",
        "colab": {
          "base_uri": "https://localhost:8080/"
        }
      },
      "source": [
        "# your code\n",
        "drug_h= []\n",
        "drug_v = []\n",
        "count = 0\n",
        "for i in  arr:\n",
        "   if i[3] == \"Headache\\n\":\n",
        "     drug_h.append(i[0])\n",
        "#print(len(drug_h))\n",
        "   elif i[3] == \"Vomiting\\n\":\n",
        "     drug_v.append(i[0])\n",
        "#print(len(drug_v))\n",
        "for i[0] in drug_h:\n",
        "  if i[0] in drug_v:\n",
        "    count = count+1\n",
        "#print(count)\n",
        "result = count/len(drug_h)\n",
        "\n",
        "print(\"If a drug has Headache side effect, \" + str(\"{:.2f}\".format(result))  + \" probability it also has Vomiting side effect\")\n",
        "\n",
        "    \n",
        "   "
      ],
      "execution_count": null,
      "outputs": [
        {
          "output_type": "stream",
          "text": [
            "If a drug has Headache side effect, 0.84 probability it also has Vomiting side effect\n"
          ],
          "name": "stdout"
        }
      ]
    }
  ]
}