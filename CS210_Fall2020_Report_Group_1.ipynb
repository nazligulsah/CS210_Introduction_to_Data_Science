{
  "nbformat": 4,
  "nbformat_minor": 0,
  "metadata": {
    "colab": {
      "provenance": [],
      "include_colab_link": true
    },
    "kernelspec": {
      "display_name": "Python 3",
      "name": "python3"
    }
  },
  "cells": [
    {
      "cell_type": "markdown",
      "metadata": {
        "id": "view-in-github",
        "colab_type": "text"
      },
      "source": [
        "<a href=\"https://colab.research.google.com/github/nazligulsah/CS210_Introduction_to_Data_Science/blob/main/CS210_Fall2020_Report_Group_1.ipynb\" target=\"_parent\"><img src=\"https://colab.research.google.com/assets/colab-badge.svg\" alt=\"Open In Colab\"/></a>"
      ]
    },
    {
      "cell_type": "markdown",
      "metadata": {
        "id": "tPdlcstH11mU"
      },
      "source": [
        "# [TMDB 5000 Movie Dataset - 1]\n"
      ]
    },
    {
      "cell_type": "markdown",
      "metadata": {
        "id": "B1iB4MSX3-6L"
      },
      "source": [
        "## Introduction\n",
        "\n",
        "The film industry is one of the biggest and active industry of our days. It is also an industry dominated by a few big companies. There are new movies being made everyday, some of them breaking records in Box-Offices and some becoming cult classics, in many different genres that can connect with a lot of different people. With the monopoly of these big companies some movies have considerable budgets while some are made with limited budgets however become very popular and make great revenues. In this project we looked over our dataset to find and analyze the connections between movies popularity and revenue in regards to factors, such as budget, runtime, language and so on. We used the [TMDB 5000 Movie Dataset](​https://www.kaggle.com/tmdb/tmdb-movie-metadata)in this project. It has 20 columns that show some of the movie's attributes, such as name, budget, genre, id, revenue and so on. Also, we created a columns which called as weighted rating. Our aim for this project is to understand the correlation between a portion of factors and how they affect a movie's popularity, revenue and weighted rating. With Data Exploration and Machine Learning Models we tried to understand our dataset in regards to our aim. \n"
      ]
    },
    {
      "cell_type": "markdown",
      "metadata": {
        "id": "B2omK2BI4KyB"
      },
      "source": [
        "### Problem Definition\n",
        "\n",
        "The main problem we are investigating in this project is of what factors effect the popularity or revenue and weighted rating of a movie. These factors being genre, some genres may be distinct in popularity, budget, with increase in budget the chance of popularity may also increase, and runtime, which affects people's interst differing popularity of a movie. The revenue is effected by spoken language, if the spoken language is non-English or it is less common around the world the revenue may be less, and common interest in some genres can effect the numbers in Box-Office. We are also aming to analyzing the relation between revenue, budget and profit, as well as relation between production country number and the budget. \n",
        "Moreover, we are aming to decide which one is can be our best target for maching learning part according the our results of utilized datasets and data exploration parts.\n"
      ]
    },
    {
      "cell_type": "markdown",
      "metadata": {
        "id": "ZjWMWVoA4NcV"
      },
      "source": [
        "### Utilized Datasets\n",
        "\n"
      ]
    },
    {
      "cell_type": "markdown",
      "metadata": {
        "id": "5A-BRrhMXf46"
      },
      "source": [
        "The data we used is named **TMDB 5000 Movie Dataset** (https://www.kaggle.com/tmdb/tmdb-movie-metadata) and have 20 columns (like genres, budget, runtime, revenue etc. they can be observed in the following outputs) that contains information about movies which are located in each row. We examined the features of the data that we used."
      ]
    },
    {
      "cell_type": "code",
      "metadata": {
        "colab": {
          "base_uri": "https://localhost:8080/"
        },
        "id": "Q2cltNwOiZr9",
        "outputId": "475593c6-3f6c-4978-d41f-aaadc38f7317"
      },
      "source": [
        "pip install wordcloud"
      ],
      "execution_count": null,
      "outputs": [
        {
          "output_type": "stream",
          "text": [
            "Requirement already satisfied: wordcloud in /usr/local/lib/python3.6/dist-packages (1.5.0)\n",
            "Requirement already satisfied: numpy>=1.6.1 in /usr/local/lib/python3.6/dist-packages (from wordcloud) (1.19.4)\n",
            "Requirement already satisfied: pillow in /usr/local/lib/python3.6/dist-packages (from wordcloud) (7.0.0)\n"
          ],
          "name": "stdout"
        }
      ]
    },
    {
      "cell_type": "code",
      "metadata": {
        "colab": {
          "base_uri": "https://localhost:8080/"
        },
        "id": "uUCsQv2JjWWr",
        "outputId": "6bb7eea8-1465-49fd-e8dd-f31397fd5b50"
      },
      "source": [
        "from google.colab import drive\n",
        "drive.mount(\"./drive\")\n",
        "\n",
        "path_prefix = \"./drive/My Drive\"\n",
        "\n",
        "import pandas as pd\n",
        "import numpy as np\n",
        "import matplotlib.pyplot as plt\n",
        "from os.path import join\n",
        "import json\n",
        "\n",
        "%matplotlib inline\n",
        "from wordcloud import WordCloud, STOPWORDS "
      ],
      "execution_count": null,
      "outputs": [
        {
          "output_type": "stream",
          "text": [
            "Drive already mounted at ./drive; to attempt to forcibly remount, call drive.mount(\"./drive\", force_remount=True).\n"
          ],
          "name": "stdout"
        }
      ]
    },
    {
      "cell_type": "markdown",
      "metadata": {
        "id": "7k95iBz-Y-yZ"
      },
      "source": [
        "The data has 20 columns and has 4 integer type columns alongside with 3 float columns as numeric features. We decided to use budget (integer), runtime(float), popularity (float) and also made observations on the spoken languages as well as the original language of the movies."
      ]
    },
    {
      "cell_type": "code",
      "metadata": {
        "colab": {
          "base_uri": "https://localhost:8080/"
        },
        "id": "k0cr1Kh3XGQR",
        "outputId": "60c21bfb-88a3-4993-b36a-80b1294e2953"
      },
      "source": [
        "fname = \"tmdb_5000_movies.csv\"\n",
        "df = pd.read_csv(join(path_prefix, fname)) \n",
        "print(\"Data Types of the Columns:\")\n",
        "print(df.dtypes,\"\\n\")\n",
        "print(\"The Shape of the Data (rows, columns):\",df.shape)"
      ],
      "execution_count": null,
      "outputs": [
        {
          "output_type": "stream",
          "text": [
            "Data Types of the Columns:\n",
            "budget                    int64\n",
            "genres                   object\n",
            "homepage                 object\n",
            "id                        int64\n",
            "keywords                 object\n",
            "original_language        object\n",
            "original_title           object\n",
            "overview                 object\n",
            "popularity              float64\n",
            "production_companies     object\n",
            "production_countries     object\n",
            "release_date             object\n",
            "revenue                   int64\n",
            "runtime                 float64\n",
            "spoken_languages         object\n",
            "status                   object\n",
            "tagline                  object\n",
            "title                    object\n",
            "vote_average            float64\n",
            "vote_count                int64\n",
            "dtype: object \n",
            "\n",
            "The Shape of the Data (rows, columns): (4803, 20)\n"
          ],
          "name": "stdout"
        }
      ]
    },
    {
      "cell_type": "markdown",
      "metadata": {
        "id": "FWTEpdBcZmBU"
      },
      "source": [
        "When we observed the **original language** column, we saw that 4505 of 4803 movies had English as the original language and it was followed by French and Spanish. So that we needed to use log graph in order to observe the difference in distribution more clearly. Given most of the movies have the same original language, having it as a feature would not be rational for our predictions. "
      ]
    },
    {
      "cell_type": "code",
      "metadata": {
        "colab": {
          "base_uri": "https://localhost:8080/",
          "height": 745
        },
        "id": "WJagKsoDjwFT",
        "outputId": "dca61476-33cd-402d-f72d-fa8a4b817f68"
      },
      "source": [
        "index = df[df[\"original_language\"]==\"en\"].index\n",
        "number_of_rows = len(index)\n",
        "print(\"Number of movies which their original language is English:\",number_of_rows,\"\\n\")\n",
        "\n",
        "stopwords = set(STOPWORDS) \n",
        "wordcloud = WordCloud(width = 400, height = 400, \n",
        "                background_color ='white', \n",
        "                stopwords = stopwords, \n",
        "                min_font_size = 10).generate(' '.join(df['original_language']))\n",
        "  \n",
        "# plot the WordCloud image                        \n",
        "plt.figure(figsize = (4, 4), facecolor = None) \n",
        "plt.imshow(wordcloud) \n",
        "plt.axis(\"off\") \n",
        "plt.tight_layout(pad = 0)  \n",
        "plt.show() \n",
        "d=df\n",
        "fig, ax= plt.subplots(figsize=(10,6))\n",
        "ax = d[\"original_language\"].value_counts().plot(kind=\"barh\")\n",
        "ax.set_title(\"Original Language Distribution Without English\")\n",
        "ax.set_xlabel(\"Language\")\n",
        "ax.set_xscale('log')\n",
        "plt.show()"
      ],
      "execution_count": null,
      "outputs": [
        {
          "output_type": "stream",
          "text": [
            "Number of movies which their original language is English: 4505 \n",
            "\n"
          ],
          "name": "stdout"
        },
        {
          "output_type": "display_data",
          "data": {
            "image/png": "[encoded data removed]",
            "text/plain": [
              "<Figure size 288x288 with 1 Axes>"
            ]
          },
          "metadata": {
            "tags": [],
            "needs_background": "light"
          }
        },
        {
          "output_type": "display_data",
          "data": {
            "image/png": "[encoded data removed]",
            "text/plain": [
              "<Figure size 720x432 with 1 Axes>"
            ]
          },
          "metadata": {
            "tags": [],
            "needs_background": "light"
          }
        }
      ]
    },
    {
      "cell_type": "markdown",
      "metadata": {
        "id": "hmQwN3ATbrtc"
      },
      "source": [
        "The second column we observed was **genres** column. That column's cells contained JSON type objects so that we needed to iterated over them to access the genre names. A movie had more than one genre, we summed every distinct genre we found. Output was the number of movies that each genre appeard in sorted order. "
      ]
    },
    {
      "cell_type": "code",
      "metadata": {
        "colab": {
          "base_uri": "https://localhost:8080/",
          "height": 567
        },
        "id": "y7Tbz2NgsfDS",
        "outputId": "e050716c-f3ac-4dcf-b9c9-507439183435"
      },
      "source": [
        "g=[]\n",
        "c=[]\n",
        "all=[]\n",
        "for idx,r in df.iterrows():\n",
        "  df_genres = json.loads(df[\"genres\"][idx])\n",
        "  for r1 in df_genres:\n",
        "    all.append(r1[\"name\"])\n",
        "    if r1[\"name\"] in g:\n",
        "      g_index = g.index(r1[\"name\"])\n",
        "      c[g_index]+=1\n",
        "    else:\n",
        "      g.append(r1[\"name\"])\n",
        "      c.append(1)\n",
        "\n",
        "stopwords = set(STOPWORDS) \n",
        "wordcloud = WordCloud(width = 400, height = 400, \n",
        "                background_color ='white', \n",
        "                stopwords = stopwords, \n",
        "                min_font_size = 10,collocations=False).generate(' '.join(all))\n",
        "  \n",
        "# plot the WordCloud image                        \n",
        "plt.figure(figsize = (4, 4), facecolor = None) \n",
        "plt.imshow(wordcloud) \n",
        "plt.axis(\"off\") \n",
        "plt.tight_layout(pad = 0)  \n",
        "plt.show() \n",
        "\n",
        "zipped = zip(g, c) \n",
        "# Converting to list \n",
        "zipped = list(zipped) \n",
        "# Using sorted and lambda \n",
        "res = dict(sorted(zipped, key = lambda x: x[1]))\n",
        "ax=plt.barh(list(res.keys()),list(res.values()),color=\"skyblue\")\n",
        "plt.show()"
      ],
      "execution_count": null,
      "outputs": [
        {
          "output_type": "display_data",
          "data": {
            "image/png": "[encoded data removed]",
            "text/plain": [
              "<Figure size 288x288 with 1 Axes>"
            ]
          },
          "metadata": {
            "tags": [],
            "needs_background": "light"
          }
        },
        {
          "output_type": "display_data",
          "data": {
            "image/png": "[encoded data removed]",
            "text/plain": [
              "<Figure size 432x288 with 1 Axes>"
            ]
          },
          "metadata": {
            "tags": [],
            "needs_background": "light"
          }
        }
      ]
    },
    {
      "cell_type": "markdown",
      "metadata": {
        "id": "-f4luO8scYgm"
      },
      "source": [
        "We then observed the budget column (which we used for our predictions) and revenue columns with histograms. It can be observed that most movies in our data has a budget less than 42 million dllars while most of the movies' revenue is much higher than that. This shows the movies tend to make profit (profit statistics can be observed in the next section)."
      ]
    },
    {
      "cell_type": "code",
      "metadata": {
        "colab": {
          "base_uri": "https://localhost:8080/",
          "height": 345
        },
        "id": "uUoZkLqQzNcX",
        "outputId": "a3b69247-c55f-45c0-ffa7-53970bb37870"
      },
      "source": [
        "fig= plt.subplots(figsize=(20,5))\n",
        "axes = [plt.subplot(121),plt.subplot(122)]\n",
        "ax = df[\"budget\"].plot.hist('scott',ax=axes[0],color=\"green\") #scott\n",
        "xlocs = np.linspace(0, df[\"budget\"].max(), 10)\n",
        "ax.set_xticks(xlocs)\n",
        "ax.set_xticklabels([f\"${i/1000000:.0f}M\" for i in xlocs])\n",
        "ax.set_title(\"Budget Distribution\")\n",
        "ax.set_xlabel(\"Budget\")\n",
        "\n",
        "ax2=df[\"revenue\"].plot.hist('scott',ax=axes[1],color=\"red\")\n",
        "xlocs2 = np.linspace(0, df[\"revenue\"].max(), 10)\n",
        "ax2.set_xticks(xlocs2)\n",
        "ax2.set_xticklabels([f\"${i/1000000:.0f}M\" for i in xlocs2])\n",
        "ax2.set_title(\"Revenue Distribution\")\n",
        "ax2.set_xlabel(\"Revenue\")\n",
        "plt.show()"
      ],
      "execution_count": null,
      "outputs": [
        {
          "output_type": "display_data",
          "data": {
            "image/png": "[encoded data removed]",
            "text/plain": [
              "<Figure size 1440x360 with 2 Axes>"
            ]
          },
          "metadata": {
            "tags": [],
            "needs_background": "light"
          }
        }
      ]
    },
    {
      "cell_type": "markdown",
      "metadata": {
        "id": "VeFbhdOodV2g"
      },
      "source": [
        "We then observed another numeric column which we used in our predictions, the runtime of the movies. We created a histogram that shows the distribution of the runtime among the movies. Most movies seem to have around 100 minutes of runtime."
      ]
    },
    {
      "cell_type": "code",
      "metadata": {
        "colab": {
          "base_uri": "https://localhost:8080/",
          "height": 295
        },
        "id": "fGwh3E405e9x",
        "outputId": "5d66580a-1db6-474a-f93f-19153addb227"
      },
      "source": [
        "ax3=df[\"runtime\"].plot.hist(bins=10,color=\"purple\")\n",
        "xlocs3 = np.linspace(0, df[\"runtime\"].max(), 10)\n",
        "ax3.set_title(\"Runtime Distribution\")\n",
        "ax3.set_xlabel(\"Runtime in Minutes\")\n",
        "plt.show()"
      ],
      "execution_count": null,
      "outputs": [
        {
          "output_type": "display_data",
          "data": {
            "image/png": "[encoded data removed]",
            "text/plain": [
              "<Figure size 432x288 with 1 Axes>"
            ]
          },
          "metadata": {
            "tags": [],
            "needs_background": "light"
          }
        }
      ]
    },
    {
      "cell_type": "markdown",
      "metadata": {
        "id": "Qbqv5Kw1duf2"
      },
      "source": [
        "The production countries colum contained JSON objects too. We iterated over the rows and created a new column that shows how many production countries a movie has. Not the names of the countries but the number of them would be used as an impact on budget or popularity in the future observations."
      ]
    },
    {
      "cell_type": "markdown",
      "metadata": {
        "id": "FLrDHmd5JbzO"
      },
      "source": [
        "We have created 4 new columns which refer to genre number, production companies number, country number and weighted average. In our original dataset, genres, production companies and production countries are object type to be utilzied them in our project we convert them to integer type. Our original dataset we do not have weighted rating we add this column. To create this column we used an IMDb weighted rating fuction which consist of average of the rating, number of votes, minimum votes in the list and the mean vote. The first 3 was created in order to be used as features in our model while weighted average became our target."
      ]
    },
    {
      "cell_type": "code",
      "metadata": {
        "id": "Xp3C9ejL-JqO"
      },
      "source": [
        "df[\"genre_number\"]=\"\"\n",
        "for i,r in df.iterrows():\n",
        "  df_c = json.loads(df[\"genres\"][i])\n",
        "  df.at[i,'genre_number']=0\n",
        "  for r2 in df_c:\n",
        "    df.at[i,'genre_number']+=1"
      ],
      "execution_count": null,
      "outputs": []
    },
    {
      "cell_type": "code",
      "metadata": {
        "id": "sJMOjk075n0B"
      },
      "source": [
        "df[\"prod_number\"]=\"\"\n",
        "for i,r in df.iterrows():\n",
        "  df_c = json.loads(df[\"production_companies\"][i])\n",
        "  df.at[i,'prod_number']=0\n",
        "  for r2 in df_c:\n",
        "    df.at[i,'prod_number']+=1"
      ],
      "execution_count": null,
      "outputs": []
    },
    {
      "cell_type": "code",
      "metadata": {
        "id": "8EbesWVH6q2o"
      },
      "source": [
        "df[\"country_number\"]=\"\"\n",
        "for i,r in df.iterrows():\n",
        "  df_c = json.loads(df[\"production_countries\"][i])\n",
        "  df.at[i,'country_number']=0\n",
        "  for r2 in df_c:\n",
        "    df.at[i,'country_number']+=1"
      ],
      "execution_count": null,
      "outputs": []
    },
    {
      "cell_type": "markdown",
      "metadata": {
        "id": "wZIwsKk0JIKC"
      },
      "source": [
        "weighted rating (WR)=(v/(v+m))*R+(m/(v+m))*C \n",
        "<br>where: \n",
        "<br>R = average for the movie (mean) = (Rating) \n",
        "<br>v = number of votes for the movie = (votes) \n",
        "<br>m = minimum vote in the list\n",
        "<br>C = the mean vote across the whole data"
      ]
    },
    {
      "cell_type": "code",
      "metadata": {
        "id": "NrxMNzWQI6u6"
      },
      "source": [
        "R = df[\"vote_average\"]\n",
        "v = df[\"vote_count\"]\n",
        "m = v.min()\n",
        "C = R.mean()\n",
        "df[\"weighted_rating\"]= (v/(v+m))*R+(m/(v+m))*C"
      ],
      "execution_count": null,
      "outputs": []
    },
    {
      "cell_type": "code",
      "metadata": {
        "colab": {
          "base_uri": "https://localhost:8080/",
          "height": 725
        },
        "id": "rHZ6aaMUPAq5",
        "outputId": "8ec46ae9-2f2b-4728-cea8-fe72274f2273"
      },
      "source": [
        "df.head()"
      ],
      "execution_count": null,
      "outputs": [
        {
          "output_type": "execute_result",
          "data": {
            "text/html": [
              "<div>\n",
              "<style scoped>\n",
              "    .dataframe tbody tr th:only-of-type {\n",
              "        vertical-align: middle;\n",
              "    }\n",
              "\n",
              "    .dataframe tbody tr th {\n",
              "        vertical-align: top;\n",
              "    }\n",
              "\n",
              "    .dataframe thead th {\n",
              "        text-align: right;\n",
              "    }\n",
              "</style>\n",
              "<table border=\"1\" class=\"dataframe\">\n",
              "  <thead>\n",
              "    <tr style=\"text-align: right;\">\n",
              "      <th></th>\n",
              "      <th>budget</th>\n",
              "      <th>genres</th>\n",
              "      <th>homepage</th>\n",
              "      <th>id</th>\n",
              "      <th>keywords</th>\n",
              "      <th>original_language</th>\n",
              "      <th>original_title</th>\n",
              "      <th>overview</th>\n",
              "      <th>popularity</th>\n",
              "      <th>production_companies</th>\n",
              "      <th>production_countries</th>\n",
              "      <th>release_date</th>\n",
              "      <th>revenue</th>\n",
              "      <th>runtime</th>\n",
              "      <th>spoken_languages</th>\n",
              "      <th>status</th>\n",
              "      <th>tagline</th>\n",
              "      <th>title</th>\n",
              "      <th>vote_average</th>\n",
              "      <th>vote_count</th>\n",
              "      <th>genre_number</th>\n",
              "      <th>prod_number</th>\n",
              "      <th>country_number</th>\n",
              "      <th>weighted_rating</th>\n",
              "    </tr>\n",
              "  </thead>\n",
              "  <tbody>\n",
              "    <tr>\n",
              "      <th>0</th>\n",
              "      <td>237000000</td>\n",
              "      <td>[{\"id\": 28, \"name\": \"Action\"}, {\"id\": 12, \"nam...</td>\n",
              "      <td>http://www.avatarmovie.com/</td>\n",
              "      <td>19995</td>\n",
              "      <td>[{\"id\": 1463, \"name\": \"culture clash\"}, {\"id\":...</td>\n",
              "      <td>en</td>\n",
              "      <td>Avatar</td>\n",
              "      <td>In the 22nd century, a paraplegic Marine is di...</td>\n",
              "      <td>150.437577</td>\n",
              "      <td>[{\"name\": \"Ingenious Film Partners\", \"id\": 289...</td>\n",
              "      <td>[{\"iso_3166_1\": \"US\", \"name\": \"United States o...</td>\n",
              "      <td>2009-12-10</td>\n",
              "      <td>2787965087</td>\n",
              "      <td>162.0</td>\n",
              "      <td>[{\"iso_639_1\": \"en\", \"name\": \"English\"}, {\"iso...</td>\n",
              "      <td>Released</td>\n",
              "      <td>Enter the World of Pandora.</td>\n",
              "      <td>Avatar</td>\n",
              "      <td>7.2</td>\n",
              "      <td>11800</td>\n",
              "      <td>4</td>\n",
              "      <td>4</td>\n",
              "      <td>2</td>\n",
              "      <td>7.2</td>\n",
              "    </tr>\n",
              "    <tr>\n",
              "      <th>1</th>\n",
              "      <td>300000000</td>\n",
              "      <td>[{\"id\": 12, \"name\": \"Adventure\"}, {\"id\": 14, \"...</td>\n",
              "      <td>http://disney.go.com/disneypictures/pirates/</td>\n",
              "      <td>285</td>\n",
              "      <td>[{\"id\": 270, \"name\": \"ocean\"}, {\"id\": 726, \"na...</td>\n",
              "      <td>en</td>\n",
              "      <td>Pirates of the Caribbean: At World's End</td>\n",
              "      <td>Captain Barbossa, long believed to be dead, ha...</td>\n",
              "      <td>139.082615</td>\n",
              "      <td>[{\"name\": \"Walt Disney Pictures\", \"id\": 2}, {\"...</td>\n",
              "      <td>[{\"iso_3166_1\": \"US\", \"name\": \"United States o...</td>\n",
              "      <td>2007-05-19</td>\n",
              "      <td>961000000</td>\n",
              "      <td>169.0</td>\n",
              "      <td>[{\"iso_639_1\": \"en\", \"name\": \"English\"}]</td>\n",
              "      <td>Released</td>\n",
              "      <td>At the end of the world, the adventure begins.</td>\n",
              "      <td>Pirates of the Caribbean: At World's End</td>\n",
              "      <td>6.9</td>\n",
              "      <td>4500</td>\n",
              "      <td>3</td>\n",
              "      <td>3</td>\n",
              "      <td>1</td>\n",
              "      <td>6.9</td>\n",
              "    </tr>\n",
              "    <tr>\n",
              "      <th>2</th>\n",
              "      <td>245000000</td>\n",
              "      <td>[{\"id\": 28, \"name\": \"Action\"}, {\"id\": 12, \"nam...</td>\n",
              "      <td>http://www.sonypictures.com/movies/spectre/</td>\n",
              "      <td>206647</td>\n",
              "      <td>[{\"id\": 470, \"name\": \"spy\"}, {\"id\": 818, \"name...</td>\n",
              "      <td>en</td>\n",
              "      <td>Spectre</td>\n",
              "      <td>A cryptic message from Bond’s past sends him o...</td>\n",
              "      <td>107.376788</td>\n",
              "      <td>[{\"name\": \"Columbia Pictures\", \"id\": 5}, {\"nam...</td>\n",
              "      <td>[{\"iso_3166_1\": \"GB\", \"name\": \"United Kingdom\"...</td>\n",
              "      <td>2015-10-26</td>\n",
              "      <td>880674609</td>\n",
              "      <td>148.0</td>\n",
              "      <td>[{\"iso_639_1\": \"fr\", \"name\": \"Fran\\u00e7ais\"},...</td>\n",
              "      <td>Released</td>\n",
              "      <td>A Plan No One Escapes</td>\n",
              "      <td>Spectre</td>\n",
              "      <td>6.3</td>\n",
              "      <td>4466</td>\n",
              "      <td>3</td>\n",
              "      <td>3</td>\n",
              "      <td>2</td>\n",
              "      <td>6.3</td>\n",
              "    </tr>\n",
              "    <tr>\n",
              "      <th>3</th>\n",
              "      <td>250000000</td>\n",
              "      <td>[{\"id\": 28, \"name\": \"Action\"}, {\"id\": 80, \"nam...</td>\n",
              "      <td>http://www.thedarkknightrises.com/</td>\n",
              "      <td>49026</td>\n",
              "      <td>[{\"id\": 849, \"name\": \"dc comics\"}, {\"id\": 853,...</td>\n",
              "      <td>en</td>\n",
              "      <td>The Dark Knight Rises</td>\n",
              "      <td>Following the death of District Attorney Harve...</td>\n",
              "      <td>112.312950</td>\n",
              "      <td>[{\"name\": \"Legendary Pictures\", \"id\": 923}, {\"...</td>\n",
              "      <td>[{\"iso_3166_1\": \"US\", \"name\": \"United States o...</td>\n",
              "      <td>2012-07-16</td>\n",
              "      <td>1084939099</td>\n",
              "      <td>165.0</td>\n",
              "      <td>[{\"iso_639_1\": \"en\", \"name\": \"English\"}]</td>\n",
              "      <td>Released</td>\n",
              "      <td>The Legend Ends</td>\n",
              "      <td>The Dark Knight Rises</td>\n",
              "      <td>7.6</td>\n",
              "      <td>9106</td>\n",
              "      <td>4</td>\n",
              "      <td>4</td>\n",
              "      <td>1</td>\n",
              "      <td>7.6</td>\n",
              "    </tr>\n",
              "    <tr>\n",
              "      <th>4</th>\n",
              "      <td>260000000</td>\n",
              "      <td>[{\"id\": 28, \"name\": \"Action\"}, {\"id\": 12, \"nam...</td>\n",
              "      <td>http://movies.disney.com/john-carter</td>\n",
              "      <td>49529</td>\n",
              "      <td>[{\"id\": 818, \"name\": \"based on novel\"}, {\"id\":...</td>\n",
              "      <td>en</td>\n",
              "      <td>John Carter</td>\n",
              "      <td>John Carter is a war-weary, former military ca...</td>\n",
              "      <td>43.926995</td>\n",
              "      <td>[{\"name\": \"Walt Disney Pictures\", \"id\": 2}]</td>\n",
              "      <td>[{\"iso_3166_1\": \"US\", \"name\": \"United States o...</td>\n",
              "      <td>2012-03-07</td>\n",
              "      <td>284139100</td>\n",
              "      <td>132.0</td>\n",
              "      <td>[{\"iso_639_1\": \"en\", \"name\": \"English\"}]</td>\n",
              "      <td>Released</td>\n",
              "      <td>Lost in our world, found in another.</td>\n",
              "      <td>John Carter</td>\n",
              "      <td>6.1</td>\n",
              "      <td>2124</td>\n",
              "      <td>3</td>\n",
              "      <td>1</td>\n",
              "      <td>1</td>\n",
              "      <td>6.1</td>\n",
              "    </tr>\n",
              "  </tbody>\n",
              "</table>\n",
              "</div>"
            ],
            "text/plain": [
              "      budget  ... weighted_rating\n",
              "0  237000000  ...             7.2\n",
              "1  300000000  ...             6.9\n",
              "2  245000000  ...             6.3\n",
              "3  250000000  ...             7.6\n",
              "4  260000000  ...             6.1\n",
              "\n",
              "[5 rows x 24 columns]"
            ]
          },
          "metadata": {
            "tags": []
          },
          "execution_count": 100
        }
      ]
    },
    {
      "cell_type": "code",
      "metadata": {
        "colab": {
          "base_uri": "https://localhost:8080/"
        },
        "id": "5dg7Cyj78h8c",
        "outputId": "90828bfe-ef44-47ca-b4d5-07118ac7abc0"
      },
      "source": [
        "df.dtypes"
      ],
      "execution_count": null,
      "outputs": [
        {
          "output_type": "execute_result",
          "data": {
            "text/plain": [
              "budget                    int64\n",
              "genres                   object\n",
              "homepage                 object\n",
              "id                        int64\n",
              "keywords                 object\n",
              "original_language        object\n",
              "original_title           object\n",
              "overview                 object\n",
              "popularity              float64\n",
              "production_companies     object\n",
              "production_countries     object\n",
              "release_date             object\n",
              "revenue                   int64\n",
              "runtime                 float64\n",
              "spoken_languages         object\n",
              "status                   object\n",
              "tagline                  object\n",
              "title                    object\n",
              "vote_average            float64\n",
              "vote_count                int64\n",
              "genre_number             object\n",
              "prod_number              object\n",
              "country_number           object\n",
              "weighted_rating         float64\n",
              "dtype: object"
            ]
          },
          "metadata": {
            "tags": []
          },
          "execution_count": 101
        }
      ]
    },
    {
      "cell_type": "markdown",
      "metadata": {
        "id": "ict00io34o_x"
      },
      "source": [
        "## Data Exploration\n",
        "\n"
      ]
    },
    {
      "cell_type": "markdown",
      "metadata": {
        "id": "JVLwh6qFCpOd"
      },
      "source": [
        "In the Data Exploration part, our purpose is that searching the relationship between popularity and the utilized datasets which are budget, revenue, profit, runtime, genres and spoken languages."
      ]
    },
    {
      "cell_type": "code",
      "metadata": {
        "colab": {
          "base_uri": "https://localhost:8080/",
          "height": 321
        },
        "id": "0vFEOpOo5q3D",
        "outputId": "334b31b1-4a23-4417-900d-57bf20a780ab"
      },
      "source": [
        "import pandas as pd\n",
        "import numpy as np\n",
        "import matplotlib.pyplot as plt\n",
        "from os.path import join\n",
        "from sklearn.metrics import r2_score\n",
        "import json\n",
        "\n",
        "%matplotlib inline\n",
        "df.head(2)"
      ],
      "execution_count": null,
      "outputs": [
        {
          "output_type": "execute_result",
          "data": {
            "text/html": [
              "<div>\n",
              "<style scoped>\n",
              "    .dataframe tbody tr th:only-of-type {\n",
              "        vertical-align: middle;\n",
              "    }\n",
              "\n",
              "    .dataframe tbody tr th {\n",
              "        vertical-align: top;\n",
              "    }\n",
              "\n",
              "    .dataframe thead th {\n",
              "        text-align: right;\n",
              "    }\n",
              "</style>\n",
              "<table border=\"1\" class=\"dataframe\">\n",
              "  <thead>\n",
              "    <tr style=\"text-align: right;\">\n",
              "      <th></th>\n",
              "      <th>budget</th>\n",
              "      <th>genres</th>\n",
              "      <th>homepage</th>\n",
              "      <th>id</th>\n",
              "      <th>keywords</th>\n",
              "      <th>original_language</th>\n",
              "      <th>original_title</th>\n",
              "      <th>overview</th>\n",
              "      <th>popularity</th>\n",
              "      <th>production_companies</th>\n",
              "      <th>production_countries</th>\n",
              "      <th>release_date</th>\n",
              "      <th>revenue</th>\n",
              "      <th>runtime</th>\n",
              "      <th>spoken_languages</th>\n",
              "      <th>status</th>\n",
              "      <th>tagline</th>\n",
              "      <th>title</th>\n",
              "      <th>vote_average</th>\n",
              "      <th>vote_count</th>\n",
              "      <th>genre_number</th>\n",
              "      <th>prod_number</th>\n",
              "      <th>country_number</th>\n",
              "      <th>weighted_rating</th>\n",
              "    </tr>\n",
              "  </thead>\n",
              "  <tbody>\n",
              "    <tr>\n",
              "      <th>0</th>\n",
              "      <td>237000000</td>\n",
              "      <td>[{\"id\": 28, \"name\": \"Action\"}, {\"id\": 12, \"nam...</td>\n",
              "      <td>http://www.avatarmovie.com/</td>\n",
              "      <td>19995</td>\n",
              "      <td>[{\"id\": 1463, \"name\": \"culture clash\"}, {\"id\":...</td>\n",
              "      <td>en</td>\n",
              "      <td>Avatar</td>\n",
              "      <td>In the 22nd century, a paraplegic Marine is di...</td>\n",
              "      <td>150.437577</td>\n",
              "      <td>[{\"name\": \"Ingenious Film Partners\", \"id\": 289...</td>\n",
              "      <td>[{\"iso_3166_1\": \"US\", \"name\": \"United States o...</td>\n",
              "      <td>2009-12-10</td>\n",
              "      <td>2787965087</td>\n",
              "      <td>162.0</td>\n",
              "      <td>[{\"iso_639_1\": \"en\", \"name\": \"English\"}, {\"iso...</td>\n",
              "      <td>Released</td>\n",
              "      <td>Enter the World of Pandora.</td>\n",
              "      <td>Avatar</td>\n",
              "      <td>7.2</td>\n",
              "      <td>11800</td>\n",
              "      <td>4</td>\n",
              "      <td>4</td>\n",
              "      <td>2</td>\n",
              "      <td>7.2</td>\n",
              "    </tr>\n",
              "    <tr>\n",
              "      <th>1</th>\n",
              "      <td>300000000</td>\n",
              "      <td>[{\"id\": 12, \"name\": \"Adventure\"}, {\"id\": 14, \"...</td>\n",
              "      <td>http://disney.go.com/disneypictures/pirates/</td>\n",
              "      <td>285</td>\n",
              "      <td>[{\"id\": 270, \"name\": \"ocean\"}, {\"id\": 726, \"na...</td>\n",
              "      <td>en</td>\n",
              "      <td>Pirates of the Caribbean: At World's End</td>\n",
              "      <td>Captain Barbossa, long believed to be dead, ha...</td>\n",
              "      <td>139.082615</td>\n",
              "      <td>[{\"name\": \"Walt Disney Pictures\", \"id\": 2}, {\"...</td>\n",
              "      <td>[{\"iso_3166_1\": \"US\", \"name\": \"United States o...</td>\n",
              "      <td>2007-05-19</td>\n",
              "      <td>961000000</td>\n",
              "      <td>169.0</td>\n",
              "      <td>[{\"iso_639_1\": \"en\", \"name\": \"English\"}]</td>\n",
              "      <td>Released</td>\n",
              "      <td>At the end of the world, the adventure begins.</td>\n",
              "      <td>Pirates of the Caribbean: At World's End</td>\n",
              "      <td>6.9</td>\n",
              "      <td>4500</td>\n",
              "      <td>3</td>\n",
              "      <td>3</td>\n",
              "      <td>1</td>\n",
              "      <td>6.9</td>\n",
              "    </tr>\n",
              "  </tbody>\n",
              "</table>\n",
              "</div>"
            ],
            "text/plain": [
              "      budget  ... weighted_rating\n",
              "0  237000000  ...             7.2\n",
              "1  300000000  ...             6.9\n",
              "\n",
              "[2 rows x 24 columns]"
            ]
          },
          "metadata": {
            "tags": []
          },
          "execution_count": 102
        }
      ]
    },
    {
      "cell_type": "markdown",
      "metadata": {
        "id": "RPR-nIz7FF6L"
      },
      "source": [
        "To organize our data we copy the dataframe which we need to use for our research. New data consists of 4803 rows and 6 columns. "
      ]
    },
    {
      "cell_type": "code",
      "metadata": {
        "colab": {
          "base_uri": "https://localhost:8080/"
        },
        "id": "mStQmPBJ6iwt",
        "outputId": "124860c9-8d9b-4245-e515-16b66da5e5d7"
      },
      "source": [
        "d = df\n",
        "df = df[[\"budget\",\"genres\",\"popularity\",\"revenue\",\"runtime\",\"spoken_languages\"]].copy()\n",
        "print(df.dtypes) \n",
        "print(df.shape)"
      ],
      "execution_count": null,
      "outputs": [
        {
          "output_type": "stream",
          "text": [
            "budget                int64\n",
            "genres               object\n",
            "popularity          float64\n",
            "revenue               int64\n",
            "runtime             float64\n",
            "spoken_languages     object\n",
            "dtype: object\n",
            "(4803, 6)\n"
          ],
          "name": "stdout"
        }
      ]
    },
    {
      "cell_type": "markdown",
      "metadata": {
        "id": "aYWKwWvYHQmK"
      },
      "source": [
        "In this scatter plot, we plotted the relationship between popularity and budget. The X-axis represents the budget and the y-axis represents popularity in terms of a logarithm. According to the plot, we argue that high budgets cannot guarantee high popularity. The data shows that the most popular moves mostly the ones that are produced by the intermediate budget. According to the corrcoef function, there is a positive correlation between budget and popularity.\n"
      ]
    },
    {
      "cell_type": "code",
      "metadata": {
        "colab": {
          "base_uri": "https://localhost:8080/",
          "height": 330
        },
        "id": "uI6qzd_y0ZTk",
        "outputId": "653b52fe-ff32-4a38-cd35-dccaff51767f"
      },
      "source": [
        "#Budget vs Popularity\n",
        "\n",
        "df_popularity = df[\"popularity\"].to_list()\n",
        "df_budget     = df[\"budget\"].to_list()\n",
        "\n",
        "\n",
        "plt.scatter(df_budget, df_popularity, c =\"blue\", s = 5)\n",
        "\n",
        "plt.ylabel(\"Popularity\") \n",
        "plt.xlabel(\"Budget\") \n",
        "plt.yscale(\"log\")\n",
        "#plt.grid(True)\n",
        "plt.title(\"Budget vs Popularity\")\n",
        "plt.show() \n",
        "np.corrcoef(df_popularity,df_budget)"
      ],
      "execution_count": null,
      "outputs": [
        {
          "output_type": "display_data",
          "data": {
            "image/png": "[encoded data removed]",
            "text/plain": [
              "<Figure size 432x288 with 1 Axes>"
            ]
          },
          "metadata": {
            "tags": [],
            "needs_background": "light"
          }
        },
        {
          "output_type": "execute_result",
          "data": {
            "text/plain": [
              "array([[1.      , 0.505414],\n",
              "       [0.505414, 1.      ]])"
            ]
          },
          "metadata": {
            "tags": []
          },
          "execution_count": 104
        }
      ]
    },
    {
      "cell_type": "markdown",
      "metadata": {
        "id": "P6jJyNjlPNQ1"
      },
      "source": [
        "In our second scatter plot, we plotted the relationship between revenue and popularity. The x-axis represents the revenue and the y-axis represents the popularity in terms of logarithm like our first scatter plot. There is a stronger correlation in revenue vs popularity than budget vs popularity. "
      ]
    },
    {
      "cell_type": "code",
      "metadata": {
        "colab": {
          "base_uri": "https://localhost:8080/",
          "height": 330
        },
        "id": "HkAv4c8800X2",
        "outputId": "996dc8bb-fd67-4699-92fd-96ed956b0ca6"
      },
      "source": [
        "\n",
        "\n",
        "df_popularity = df[\"popularity\"].to_list()\n",
        "df_revenue    = df[\"revenue\"].to_list()\n",
        "\n",
        "\n",
        "plt.scatter(df_revenue, df_popularity, c =\"red\", s = 5)\n",
        "\n",
        "plt.ylabel(\"Popularity\") \n",
        "plt.xlabel(\"Revenue\") \n",
        "plt.yscale(\"log\")\n",
        "#plt.grid(True)\n",
        "plt.title(\"Revenue vs Popularity\")\n",
        "plt.show() \n",
        "np.corrcoef(df_popularity,df_revenue)"
      ],
      "execution_count": null,
      "outputs": [
        {
          "output_type": "display_data",
          "data": {
            "image/png": "[encoded data removed]",
            "text/plain": [
              "<Figure size 432x288 with 1 Axes>"
            ]
          },
          "metadata": {
            "tags": [],
            "needs_background": "light"
          }
        },
        {
          "output_type": "execute_result",
          "data": {
            "text/plain": [
              "array([[1.       , 0.6447235],\n",
              "       [0.6447235, 1.       ]])"
            ]
          },
          "metadata": {
            "tags": []
          },
          "execution_count": 105
        }
      ]
    },
    {
      "cell_type": "markdown",
      "metadata": {
        "id": "qoBs2PtzQ1eV"
      },
      "source": [
        "In our original data, there was no profit column so we obtain it by substrating revenue from the budget to create the profit vs popularity scatter plot. The X-axis represents the profit and the y-axis represent the popularity in terms of logarithm like our first and second scatter plot. There is a similar correlation between profit vs popularity and revenue vs popularity."
      ]
    },
    {
      "cell_type": "code",
      "metadata": {
        "colab": {
          "base_uri": "https://localhost:8080/",
          "height": 330
        },
        "id": "9LtEeby78SQl",
        "outputId": "6d36d6b8-099e-468b-fd30-77a07ecc7e28"
      },
      "source": [
        "#Profit vs Popularity\n",
        "df[\"profit\"] = df[\"revenue\"] - df[\"budget\"]\n",
        "\n",
        "df_popularity = df[\"popularity\"].to_list()\n",
        "df_profit     = df[\"profit\"].to_list()\n",
        "\n",
        "\n",
        "plt.scatter(df_profit, df_popularity, c =\"darkorange\", s = 5)\n",
        "\n",
        "plt.ylabel(\"Popularity\") \n",
        "plt.xlabel(\"Profit\") \n",
        "plt.yscale(\"log\")\n",
        "#plt.grid(True)\n",
        "plt.title(\"Profit vs Popularity\")\n",
        "plt.show() \n",
        "np.corrcoef(df_popularity,df_profit)\n"
      ],
      "execution_count": null,
      "outputs": [
        {
          "output_type": "display_data",
          "data": {
            "image/png": "[encoded data removed]",
            "text/plain": [
              "<Figure size 432x288 with 1 Axes>"
            ]
          },
          "metadata": {
            "tags": [],
            "needs_background": "light"
          }
        },
        {
          "output_type": "execute_result",
          "data": {
            "text/plain": [
              "array([[1.        , 0.62085432],\n",
              "       [0.62085432, 1.        ]])"
            ]
          },
          "metadata": {
            "tags": []
          },
          "execution_count": 106
        }
      ]
    },
    {
      "cell_type": "markdown",
      "metadata": {
        "id": "GMHT-LpoRrnK"
      },
      "source": [
        "In this bar graph, we graphed the relationship between genres and popularity. The x-axis represents 20 genres. In our data, for every movie there is at least one genre so for that reason we find the frequency for every genre. For the y-axis for every genre, we count every popularity for single genres then we divide the number of movies and find the mean of popularity for every genre. The top 5 genres are adventure, animation, science fiction, fantasy, and action.  "
      ]
    },
    {
      "cell_type": "code",
      "metadata": {
        "colab": {
          "base_uri": "https://localhost:8080/",
          "height": 350
        },
        "id": "FvNhXLDiCnLP",
        "outputId": "448459b4-115c-461a-b52a-1977c6264567"
      },
      "source": [
        "popu = []\n",
        "popu_count = []\n",
        "genr = []\n",
        "for index,row in df.iterrows():\n",
        "  df_genre = json.loads(df[\"genres\"][index])\n",
        "  for r2 in df_genre:\n",
        "    if r2[\"name\"] in genr:\n",
        "      genre_index = genr.index(r2[\"name\"])\n",
        "      popu[genre_index] += df[\"popularity\"][index]\n",
        "      popu_count[genre_index]=popu_count[genre_index]+1\n",
        "    else:\n",
        "      genr.append(r2[\"name\"])\n",
        "      popu.append(0)\n",
        "      popu_count.append(0)\n",
        "\n",
        "      genre_index = genr.index(r2[\"name\"])\n",
        "      popu[genre_index] += df[\"popularity\"][index]\n",
        "      popu_count[genre_index]=popu_count[genre_index]+1\n",
        "\n",
        "\n",
        "popularity_by_id = [i / j for i, j in zip(popu, popu_count)] \n",
        "#print(popularity_by_id)\n",
        " \n",
        "fig = plt.figure(figsize = (10, 5)) \n",
        "  \n",
        "popularity_by_genres = zip(popularity_by_id, genr)\n",
        "#popularity_by_genres = zip(popu_count, genr)\n",
        "popularity_by_genres = sorted(popularity_by_genres, reverse=False)\n",
        "popularity_by_id, genr = zip(*popularity_by_genres)\n",
        "\n",
        "# creating the bar plot \n",
        "plt.barh(genr, popularity_by_id, color ='cornflowerblue') \n",
        "#plt.grid(True)\n",
        "plt.ylabel(\"Genres\") \n",
        "plt.xlabel(\"Popularity\") \n",
        "plt.title(\"Popularity vs Genres\") \n",
        "plt.show() "
      ],
      "execution_count": null,
      "outputs": [
        {
          "output_type": "display_data",
          "data": {
            "image/png": "[encoded data removed]",
            "text/plain": [
              "<Figure size 720x360 with 1 Axes>"
            ]
          },
          "metadata": {
            "tags": [],
            "needs_background": "light"
          }
        }
      ]
    },
    {
      "cell_type": "markdown",
      "metadata": {
        "id": "w908E3JlUu27"
      },
      "source": [
        "There is a bar graph that represents the relationship between runtime and popularity. The x-axis shows runtime interval to obtain x-axis firstly, we replace nan value to 0 and then we drop all 0 rows by dropna function. Moreover, we separated the interval for runtime. To obtain runtime intervals we use a loop in range length of runtime and else-if statements. The smallest interval of 0-30 minutes and after that every interval increases by 30 minutes. The longest runtime for a movie is 338 minutes. For the y-axis, we calculated the mean popularity of every runtime interval. The shape of our graph looks like a bell-curve so we argue that 150-180 minutes interval is key to producing a popular movie. Until 150 minutes there is a positive correlation and after 180 minutes there is a negative correlation in our graph."
      ]
    },
    {
      "cell_type": "code",
      "metadata": {
        "colab": {
          "base_uri": "https://localhost:8080/",
          "height": 295
        },
        "id": "i-ZccOPbS5SS",
        "outputId": "a3fc945d-7ae1-42b3-d031-9e4340a7fbfe"
      },
      "source": [
        "#Runtime vs Popularity\n",
        "\n",
        "df_for_runtime = df[[\"runtime\",\"popularity\"]].copy()\n",
        "\n",
        "#print(df.iloc[:,1:5].isnull().sum)\n",
        "df_for_runtime = df_for_runtime.replace(0, np.nan)\n",
        "df_for_runtime.dropna()\n",
        "df_popularity = df_for_runtime[\"popularity\"].to_list()\n",
        "df_runtime    = df_for_runtime[\"runtime\"].to_list()\n",
        "\n",
        "bins  = [15,45,75,115,135,165,195,225,255,285,315,345]\n",
        "bins_f= [1, 1, 1, 1,  1,  1,  1,  1,  1,  1,  1,  1]\n",
        "popu_f= [0, 0, 0, 0,  0,  0,  0,  0,  0,  0,  0,  0]\n",
        "\n",
        "for i in range(len(df_runtime)):\n",
        "  j = df_runtime[i]\n",
        "  k = df_popularity[i]\n",
        "  if j > 330:\n",
        "    bins_f[11]= bins_f[11]+1\n",
        "    popu_f[11]= popu_f[11]+k\n",
        "  elif j > 300:\n",
        "    bins_f[10]= bins_f[10]+1\n",
        "    popu_f[10]= popu_f[10]+k\n",
        "  elif j > 270:\n",
        "    bins_f[9]= bins_f[9]+1\n",
        "    popu_f[9]= popu_f[9]+k\n",
        "  elif j > 240:\n",
        "    bins_f[8]= bins_f[8]+1\n",
        "    popu_f[8]= popu_f[8]+k\n",
        "  elif j > 210:\n",
        "    bins_f[7]= bins_f[7]+1\n",
        "    popu_f[7]= popu_f[7]+k\n",
        "  elif j > 180:\n",
        "    bins_f[6]= bins_f[6]+1\n",
        "    popu_f[6]= popu_f[6]+k\n",
        "  elif j > 150:\n",
        "    bins_f[5]= bins_f[5]+1\n",
        "    popu_f[5]= popu_f[5]+k\n",
        "  elif j > 120:\n",
        "    bins_f[4]= bins_f[4]+1\n",
        "    popu_f[4]= popu_f[4]+k\n",
        "  elif j > 90:\n",
        "    bins_f[3]= bins_f[3]+1\n",
        "    popu_f[3]= popu_f[3]+k\n",
        "  elif j > 60:\n",
        "    bins_f[2]= bins_f[2]+1\n",
        "    popu_f[2]= popu_f[2]+k\n",
        "  elif j > 30:\n",
        "    bins_f[1]= bins_f[1]+1\n",
        "    popu_f[1]= popu_f[1]+k\n",
        "  else:\n",
        "    bins_f[0]= bins_f[0]+1\n",
        "    popu_f[11]= popu_f[11]+k\n",
        "\n",
        "df_popularity = [i / j for i, j in zip(popu_f, bins_f)] \n",
        "\n",
        "#plt.scatter(df_runtime, df_popularity, c =\"darkorange\", s = 5)\n",
        "#plt.bar(df_runtime, df_popularity, color ='maroon', width = 0.4) \n",
        "plt.bar(bins, df_popularity, color ='maroon', width = 30) \n",
        "\n",
        "\n",
        "plt.ylabel(\"Popularity\") \n",
        "plt.xlabel(\"Runtime\") \n",
        "#plt.yscale(\"log\")\n",
        "#plt.grid(True)\n",
        "plt.title(\"Runtime vs Popularity\")\n",
        "plt.show() \n",
        "\n"
      ],
      "execution_count": null,
      "outputs": [
        {
          "output_type": "display_data",
          "data": {
            "image/png": "[encoded data removed]",
            "text/plain": [
              "<Figure size 432x288 with 1 Axes>"
            ]
          },
          "metadata": {
            "tags": [],
            "needs_background": "light"
          }
        }
      ]
    },
    {
      "cell_type": "markdown",
      "metadata": {
        "id": "-yvllHr1a21J"
      },
      "source": [
        "In our bar graph showing the relationship between spoken languages in the movies and popularity for every language. The y-axis represents 87 spoken languages. In the data spoken languages are shown iso code of languages (\"iso_639_1\"). Like genres vs popularity graph, There is more than one language for a movie. So we calculated the mean popularity for every spoken language for the x-axis.  "
      ]
    },
    {
      "cell_type": "code",
      "metadata": {
        "colab": {
          "base_uri": "https://localhost:8080/",
          "height": 1000
        },
        "id": "Q3V12ZtiTKsK",
        "outputId": "57b24ac2-49d8-4470-9236-747e9e9ddd57"
      },
      "source": [
        "popu = []\n",
        "popu_count = []\n",
        "genr = []\n",
        "genr_D = []\n",
        "for index,row in df.iterrows():\n",
        "  df_genre = json.loads(df[\"spoken_languages\"][index])\n",
        "  for r2 in df_genre:\n",
        "    if r2[\"iso_639_1\"] in genr:\n",
        "      genre_index = genr.index(r2[\"iso_639_1\"])\n",
        "      popu[genre_index] += df[\"popularity\"][index]\n",
        "      popu_count[genre_index]=popu_count[genre_index]+1\n",
        "    else:\n",
        "      genr.append(r2[\"iso_639_1\"])\n",
        "      #genr.append(r2[\"name\"])\n",
        "      popu.append(0)\n",
        "      popu_count.append(0)\n",
        "\n",
        "      genre_index = genr.index(r2[\"iso_639_1\"])\n",
        "      popu[genre_index] += df[\"popularity\"][index]\n",
        "      popu_count[genre_index]=popu_count[genre_index]+1\n",
        "\n",
        "\n",
        "popularity_by_id = [i / j for i, j in zip(popu, popu_count)] \n",
        "\n",
        "fig = plt.figure(figsize = (20, 20)) \n",
        "  \n",
        "popularity_by_spoken_languages = zip(popularity_by_id, genr)\n",
        "popularity_by_spoken_languages = sorted(popularity_by_spoken_languages, reverse=False)\n",
        "popularity_by_id, genr = zip(*popularity_by_spoken_languages)\n",
        "\n",
        "# creating the bar plot \n",
        "plt.barh(genr, popularity_by_id, color ='cornflowerblue') \n",
        "#plt.grid(True)\n",
        "plt.ylabel(\"Spoken Languages\") \n",
        "plt.xlabel(\"Popularity\") \n",
        "plt.title(\"Popularity vs Spoken Languages\") \n",
        "plt.show() \n",
        "\n",
        "\n",
        "  \n"
      ],
      "execution_count": null,
      "outputs": [
        {
          "output_type": "display_data",
          "data": {
            "image/png": "[encoded data removed]",
            "text/plain": [
              "<Figure size 1440x1440 with 1 Axes>"
            ]
          },
          "metadata": {
            "tags": [],
            "needs_background": "light"
          }
        }
      ]
    },
    {
      "cell_type": "markdown",
      "metadata": {
        "id": "gWoY8F-v4ZU0"
      },
      "source": [
        "## Machine Learning Models\n",
        "\n",
        "<font color=\"black\">\n",
        "We have tested two machine learning models (Decision Tree and Random Forest) using \"budget\" and \"runtime\" as features and \"popularity\" as the target. Then observed the Mean Squared Error that the models give. \n",
        "</font>"
      ]
    },
    {
      "cell_type": "markdown",
      "metadata": {
        "id": "dcGt7VWIX-5A"
      },
      "source": [
        "\"**The Mean Squared Error (MSE)** of an estimator measures the average of error squares i.e. the average squared difference between the estimated values and true value. It is a risk function, corresponding to the expected value of the squared error loss. It is always non – negative and **values close to zero are better**. The MSE is the second moment of the error (about the origin) and thus incorporates both the variance of the estimator and its bias.\" (GeeksforGeeks: https://www.geeksforgeeks.org/python-mean-squared-error/)"
      ]
    },
    {
      "cell_type": "markdown",
      "metadata": {
        "id": "iGJu8koUP1Q7"
      },
      "source": [
        "### Implementation"
      ]
    },
    {
      "cell_type": "code",
      "metadata": {
        "id": "qIdskLdhfzsF"
      },
      "source": [
        "from sklearn import datasets\n",
        "from sklearn.model_selection import train_test_split\n",
        "from sklearn.neighbors import KNeighborsRegressor\n",
        "from sklearn.tree import DecisionTreeRegressor\n",
        "from sklearn.metrics import mean_squared_error\n",
        "from sklearn import tree\n",
        "from sklearn.ensemble import RandomForestRegressor\n"
      ],
      "execution_count": null,
      "outputs": []
    },
    {
      "cell_type": "code",
      "metadata": {
        "id": "GyzVUaNoAtkH"
      },
      "source": [
        "df=d"
      ],
      "execution_count": null,
      "outputs": []
    },
    {
      "cell_type": "markdown",
      "metadata": {
        "id": "5oRNZKxjRj7H"
      },
      "source": [
        "### Decision Tree\n",
        "\n",
        "We first tried Decision Tree model to predict the popularity given budget and runtime. We dropped all the NaN values so that the model can work properly. We then splitted the data, we defined our feature variable (X) as a dataframe that only have budget and runtime columns and our target variable (y) as a dataframe that have only popularity column. Then we splitted our data using train_test_split function which gets our X and y dataframes and the percentage value we want to have as the test data. We gave 80% of the data for training (for the model to learn) and 20% data remained. Then we splitted remaining data in half, we got validation and test data. At the end; 80% of our data became training data, 10% of it is preserved as validation data and 10% of it as the test data.\n",
        "\n",
        "We then created our model and trained it with our training data (X_train, y_train). We made the model make predictions on the test data we have preserved and find y predictions according to what it has learned from the training data.\n",
        "\n",
        "We then found the mean squared error which gives the amount of error our prediction have by comparing the test data (y_test) we preserved and the predicted y values. Our mean squared error output was very high. This tells us that our inputs were not enough or even wrong for predicting our target. The model could not learn many useful information and could not predict the target right. "
      ]
    },
    {
      "cell_type": "code",
      "metadata": {
        "colab": {
          "base_uri": "https://localhost:8080/"
        },
        "id": "JYgwPfup_Mgu",
        "outputId": "72da11c2-f050-413e-e14d-6d27b3fa92c6"
      },
      "source": [
        "df.dropna(inplace=True)\n",
        "df.head()\n",
        "# features\n",
        "X = df[[\"budget\",\"runtime\"]]\n",
        "# target attribute\n",
        "y = df[\"popularity\"]\n",
        "# 80% training, 20% for validation and testing\n",
        "X_train, X_remaining, y_train, y_remaining = train_test_split(X, y, random_state=0, test_size=0.20)\n",
        "# divide the remaining part into two\n",
        "# at the end, you get 10% validation, 10% test\n",
        "X_val, X_test, y_val, y_test = train_test_split(X_remaining, y_remaining, random_state=0, test_size=0.50)\n",
        "\n",
        "#create a model\n",
        "model = DecisionTreeRegressor(criterion=\"mse\") \n",
        "model.fit(X_train, y_train) #we train the model\n",
        "# predict the validation data\n",
        "y_pred = model.predict(X_test)  \n",
        "# perform CV with the given settings\n",
        "print(\"Features: budget, runtime\")\n",
        "print(\"Target: popularity\")\n",
        "print(\"Mean Squared Error of Decision Tree Regressor:\",mean_squared_error(y_test, y_pred, squared=False))"
      ],
      "execution_count": null,
      "outputs": [
        {
          "output_type": "stream",
          "text": [
            "Features: budget, runtime\n",
            "Target: popularity\n",
            "Mean Squared Error of Decision Tree Regressor: 41.92858781258879\n"
          ],
          "name": "stdout"
        }
      ]
    },
    {
      "cell_type": "markdown",
      "metadata": {
        "id": "G3goQYLsKj3j"
      },
      "source": [
        "**The error in our first Decision Tree was very high. After we decided to change our features as \"budget\",\"runtime\",\"country_number\",\"prod_number\",\"genre_number\" and our target as \"weighted_rating\" which is a column we added to the data; we applied decision tree model again. This time, our predictions became much less erroneous. We got MSE results around 1.1.**"
      ]
    },
    {
      "cell_type": "code",
      "metadata": {
        "colab": {
          "base_uri": "https://localhost:8080/"
        },
        "id": "aIBl2oqzmgwd",
        "outputId": "66f629db-ecf4-4c70-b44b-4dbd35b06c4e"
      },
      "source": [
        "df.dropna(inplace=True)\n",
        "df.head()\n",
        "X = df[[\"budget\",\"runtime\",\"country_number\",\"prod_number\",\"genre_number\"]]  \n",
        "# target attribute\n",
        "y = df[\"weighted_rating\"]\n",
        "# 80% training, 20% for validation and testing\n",
        "X_train, X_remaining, y_train, y_remaining = train_test_split(X, y, random_state=0, test_size=0.20)\n",
        "# divide the remaining part into two\n",
        "# at the end, you get 10% validation, 10% test\n",
        "X_val, X_test, y_val, y_test = train_test_split(X_remaining, y_remaining, random_state=0, test_size=0.50)\n",
        "\n",
        "#create a model\n",
        "model = DecisionTreeRegressor(criterion=\"mse\") \n",
        "model.fit(X_train, y_train) #we train the model\n",
        "# predict the validation data\n",
        "y_pred = model.predict(X_test)  \n",
        "# perform CV with the given settings\n",
        "print(\"Features: budget, runtime,country_number,prod_number, genre_number\")\n",
        "print(\"Target: weighted_rating\")\n",
        "print(\"Mean Squared Error of Decision Tree Regressor:\",mean_squared_error(y_test, y_pred, squared=False))\n"
      ],
      "execution_count": null,
      "outputs": [
        {
          "output_type": "stream",
          "text": [
            "Features: budget, runtime,country_number,prod_number, genre_number\n",
            "Target: weighted_rating\n",
            "Mean Squared Error of Decision Tree Regressor: 1.1265332579236416\n"
          ],
          "name": "stdout"
        }
      ]
    },
    {
      "cell_type": "markdown",
      "metadata": {
        "id": "WFFk1G8UURz8"
      },
      "source": [
        "###Random Forest\n",
        "\n",
        "Our second model was Random Forest. We splitted data as train and test data, gave test size as 0.25 so that we would keep 25% of our data for testing and use 75% for training the model. We determined estimator number in the random forest (which are decision trees in the forest, the number of them shows how many estimation we make.). We trained the model with the training data and made a prediction about target using X_test data we have set aside. We then used this prediction and the target test data to check the Mean Squared Error of our model. The output was once again really high, but lower than the decision tree model's. \n",
        "\n",
        "We used a new version of random forest by setting max depth of it as 2, we once again trained the model and made a prediction. When we calculated the mean squared error of this new version, we saw that even though it was still high, it was lower than the decision tree model and the first version of the random forest model.\n"
      ]
    },
    {
      "cell_type": "markdown",
      "metadata": {
        "id": "dx2J59FY_lzT"
      },
      "source": [
        "Old outcomes:\n",
        "<br>Random Forest Mean Squared Error: 30.84926963314338\n",
        "<br>Random Forest with max_depth=2 Mean Squared Error: 28.750896945073926\n"
      ]
    },
    {
      "cell_type": "markdown",
      "metadata": {
        "id": "Ga9Vti9rKy3G"
      },
      "source": [
        "**The MSE's in our first Random Tree model were lower than the Decision Tree's but was still so high as it can be seen above. After we changed our features and our target, we made the predictions on the validation data using Random Forest Regressor model and got very little errors around 0.9.**"
      ]
    },
    {
      "cell_type": "code",
      "metadata": {
        "colab": {
          "base_uri": "https://localhost:8080/"
        },
        "id": "nyEyPLRBN6Ks",
        "outputId": "dcc53367-4243-41e3-fdc7-eb8a398ec852"
      },
      "source": [
        "# 80% training, 20% for validation and testing\n",
        "X_train, X_remaining, y_train, y_remaining = train_test_split(X, y, random_state=0, test_size=0.20)\n",
        "# divide the remaining part into two\n",
        "# at the end, you get 10% validation, 10% test\n",
        "X_val, X_test, y_val, y_test = train_test_split(X_remaining, y_remaining, random_state=0, test_size=0.50)\n",
        "\n",
        "#Random Forest Training(In new version default of estimators will be 100)\n",
        "model_rf = RandomForestRegressor(random_state=42)\n",
        "model_rf.fit(X_train, y_train)\n",
        "\n",
        "#Random Forest Testing\n",
        "rf_predictions = model_rf.predict(X_val)\n",
        "rf_mse=mean_squared_error(y_val, rf_predictions, squared=False)\n",
        "print(\"Random Forest Mean Squared Error:\",rf_mse)\n",
        "\n",
        "#Random Forest Training(In new version default of estimators will be 100) with max_depth=2\n",
        "model_rf = RandomForestRegressor(max_depth=2)\n",
        "model_rf.fit(X_train, y_train,)\n",
        "\n",
        "#Random Forest Testing with max_depth=2\n",
        "rf_predictions2 = model_rf.predict(X_val)\n",
        "rf_mse2=mean_squared_error(y_val, rf_predictions2, squared=False)\n",
        "print(\"Random Forest with max_depth=2 Mean Squared Error:\",rf_mse2)\n"
      ],
      "execution_count": null,
      "outputs": [
        {
          "output_type": "stream",
          "text": [
            "Random Forest Mean Squared Error: 0.9325511941672311\n",
            "Random Forest with max_depth=2 Mean Squared Error: 0.9327874329768723\n"
          ],
          "name": "stdout"
        }
      ]
    },
    {
      "cell_type": "markdown",
      "metadata": {
        "id": "yNYr1iMuLFda"
      },
      "source": [
        "# Feature Importance\n",
        "We looked at the most important features in our random forest model to determine which parameter is the most significant. Runtime turned out to be the most important feature in our model. Runtime and popularity graph also had an almost perfect bell curve. Having a consitent relationship between popularity and runtime halped our model to train better before. After we changed our target runtime was still the most important feature. We can conclude that keeping runtime in a specific range is important to attract the attention of the viewers. The second most important feature is the budget. Budget clearly has an important role in making a movie successful so it is not surprising to see that the budget is an important feature."
      ]
    },
    {
      "cell_type": "code",
      "metadata": {
        "colab": {
          "base_uri": "https://localhost:8080/",
          "height": 560
        },
        "id": "Z7YlA1mbAcfz",
        "outputId": "67be8d76-2ea1-4e3b-d0c9-02ce3813e095"
      },
      "source": [
        "#feature importances\n",
        "from matplotlib import cm\n",
        "\n",
        "# feature_importances_ attribute of a Random Forest model instance.\n",
        "feature_list = list(X_train.columns)\n",
        "\n",
        "# Get importance list from model\n",
        "importances = list(model_rf.feature_importances_)\n",
        "\n",
        "feature_importances = [(feature, round(importance, 3)) for feature, importance in zip(feature_list, importances)]\n",
        "feature_importances = sorted(feature_importances, key = lambda x: x[1],reverse=True)\n",
        "\n",
        "cmap = cm.Reds(np.linspace(0,2))\n",
        "\n",
        "print(\"Feature Importances List:\")\n",
        "for pair in feature_importances:\n",
        "  print(\"Variable: {:2}   Importance: {}\".format(*pair))\n",
        "\n",
        "fig, ax = plt.subplots(figsize=(12, 6))\n",
        "x=[]\n",
        "y=[]\n",
        "for item in feature_importances:\n",
        "    x.append(item[1])\n",
        "    y.append(item[0])\n",
        "x.reverse()\n",
        "y.reverse()\n",
        "xlocs = np.linspace(0, 1, 9)\n",
        "ax.set_xticks(xlocs)\n",
        "ax.set_xticklabels([round(i,2) for i in xlocs])\n",
        "ax.barh(y,x,color=cmap)\n",
        "plt.xlabel(\"Feature Importance\")\n",
        "plt.title(\"Most Important Features of the Initial Model\")"
      ],
      "execution_count": null,
      "outputs": [
        {
          "output_type": "stream",
          "text": [
            "Feature Importances List:\n",
            "Variable: runtime   Importance: 0.982\n",
            "Variable: budget   Importance: 0.013\n",
            "Variable: prod_number   Importance: 0.004\n",
            "Variable: country_number   Importance: 0.001\n",
            "Variable: genre_number   Importance: 0.0\n",
            "[0.982, 0.013, 0.004, 0.001, 0.0]\n",
            "['runtime', 'budget', 'prod_number', 'country_number', 'genre_number']\n"
          ],
          "name": "stdout"
        },
        {
          "output_type": "execute_result",
          "data": {
            "text/plain": [
              "Text(0.5, 1.0, 'Most Important Features of the Initial Model')"
            ]
          },
          "metadata": {
            "tags": []
          },
          "execution_count": 115
        },
        {
          "output_type": "display_data",
          "data": {
            "image/png": "[encoded data removed]",
            "text/plain": [
              "<Figure size 864x432 with 1 Axes>"
            ]
          },
          "metadata": {
            "tags": [],
            "needs_background": "light"
          }
        }
      ]
    },
    {
      "cell_type": "markdown",
      "metadata": {
        "id": "GGQMfeQhLcXS"
      },
      "source": [
        "# Grid Search\n",
        "We wanted to even lower our error on our machine learning model so we used the grid search to hyper tune our model. We used the parameters below to tinker with the random forest model.\n",
        "'min_samples_split': [2, 4,6],\n",
        "'n_estimators': [100, 200, 300]"
      ]
    },
    {
      "cell_type": "code",
      "metadata": {
        "colab": {
          "base_uri": "https://localhost:8080/"
        },
        "id": "zR185SuJAtTb",
        "outputId": "37c3e414-088d-4d7b-8de6-9dbfd54e5de6"
      },
      "source": [
        "#hyperparameter tuning \n",
        "from sklearn.model_selection import GridSearchCV\n",
        "from sklearn.ensemble import RandomForestRegressor\n",
        "#Train Random Forest instances with the given parameter space using GridSearchCV,\n",
        "\n",
        "# Create the parameter grid based on the results of random search \n",
        "param_grid = {\n",
        "    'min_samples_split': [2, 4, 6],\n",
        "    'n_estimators': [100, 200, 300]\n",
        "}\n",
        "# Create a based model\n",
        "rf = RandomForestRegressor(random_state=42)\n",
        "# Instantiate the grid search model\n",
        "grid_search = GridSearchCV(estimator = rf, param_grid = param_grid, \n",
        "                          cv = 3, n_jobs = -1, verbose = 2)\n",
        "grid_search.fit(X_train, y_train)\n",
        "\n",
        "#Compare the accuracy score you obtained here with the accuracy score of the initial model."
      ],
      "execution_count": null,
      "outputs": [
        {
          "output_type": "stream",
          "text": [
            "Fitting 3 folds for each of 9 candidates, totalling 27 fits\n"
          ],
          "name": "stdout"
        },
        {
          "output_type": "stream",
          "text": [
            "[Parallel(n_jobs=-1)]: Using backend LokyBackend with 2 concurrent workers.\n",
            "[Parallel(n_jobs=-1)]: Done  27 out of  27 | elapsed:   11.6s finished\n"
          ],
          "name": "stderr"
        },
        {
          "output_type": "execute_result",
          "data": {
            "text/plain": [
              "GridSearchCV(cv=3, error_score=nan,\n",
              "             estimator=RandomForestRegressor(bootstrap=True, ccp_alpha=0.0,\n",
              "                                             criterion='mse', max_depth=None,\n",
              "                                             max_features='auto',\n",
              "                                             max_leaf_nodes=None,\n",
              "                                             max_samples=None,\n",
              "                                             min_impurity_decrease=0.0,\n",
              "                                             min_impurity_split=None,\n",
              "                                             min_samples_leaf=1,\n",
              "                                             min_samples_split=2,\n",
              "                                             min_weight_fraction_leaf=0.0,\n",
              "                                             n_estimators=100, n_jobs=None,\n",
              "                                             oob_score=False, random_state=42,\n",
              "                                             verbose=0, warm_start=False),\n",
              "             iid='deprecated', n_jobs=-1,\n",
              "             param_grid={'min_samples_split': [2, 4, 6],\n",
              "                         'n_estimators': [100, 200, 300]},\n",
              "             pre_dispatch='2*n_jobs', refit=True, return_train_score=False,\n",
              "             scoring=None, verbose=2)"
            ]
          },
          "metadata": {
            "tags": []
          },
          "execution_count": 116
        }
      ]
    },
    {
      "cell_type": "markdown",
      "metadata": {
        "id": "ihcazdIfL3A8"
      },
      "source": [
        "With the gird search, we perfected our parameters. Grid search found n_estimators as 300 and min_samples_split 6 as best resulting parameters within given parameters.\n",
        "\n"
      ]
    },
    {
      "cell_type": "code",
      "metadata": {
        "colab": {
          "base_uri": "https://localhost:8080/"
        },
        "id": "R1rtwGNbEenu",
        "outputId": "2450c153-c995-4224-ace3-d7332d139d50"
      },
      "source": [
        "# Displaying best hyperparameters\n",
        "grid_search.best_params_"
      ],
      "execution_count": null,
      "outputs": [
        {
          "output_type": "execute_result",
          "data": {
            "text/plain": [
              "{'min_samples_split': 6, 'n_estimators': 300}"
            ]
          },
          "metadata": {
            "tags": []
          },
          "execution_count": 117
        }
      ]
    },
    {
      "cell_type": "markdown",
      "metadata": {
        "id": "wAIfZMGgL8iX"
      },
      "source": [
        "\n",
        "When best parameters plug in the random forest and predicted with validation data mean squared error turned out to be around 1.2 which is significently higher than the previous model so in this case hyperparameter tuning in our model was unnecesary. The default values of Random Forest Regressor worked better.\n",
        "\n"
      ]
    },
    {
      "cell_type": "code",
      "metadata": {
        "colab": {
          "base_uri": "https://localhost:8080/"
        },
        "id": "hxE7zQUMEgeX",
        "outputId": "5ea2c014-18a2-4123-be47-4d9e31fba007"
      },
      "source": [
        "grid_preds = grid_search.predict(X_val)\n",
        "mean_squared_error(y_val, y_pred, squared=False)"
      ],
      "execution_count": null,
      "outputs": [
        {
          "output_type": "execute_result",
          "data": {
            "text/plain": [
              "1.218509376521634"
            ]
          },
          "metadata": {
            "tags": []
          },
          "execution_count": 86
        }
      ]
    },
    {
      "cell_type": "markdown",
      "metadata": {
        "id": "ULFGSRIqQi6y"
      },
      "source": [
        "### KNN\n",
        "\n",
        "The third model we used, KNN (K Nearest Neighbor), resulted better when K is higher after we checked K values from 1 to 39 and compared the MSE's. However, the mean squared error is higher compared to the other two models."
      ]
    },
    {
      "cell_type": "markdown",
      "metadata": {
        "id": "Q8btqNC2MDms"
      },
      "source": [
        "We decided not to continue to use KNN with our new features and the new target. However, we realized that we were making predictions on the test data and changed it to the validation data."
      ]
    },
    {
      "cell_type": "code",
      "metadata": {
        "colab": {
          "base_uri": "https://localhost:8080/",
          "height": 443
        },
        "id": "zLVSH6TzqSzb",
        "outputId": "22a99239-0f41-483a-bfbe-4b36a738b666"
      },
      "source": [
        "#runtime vs popularity\n",
        "# separate features and the target column\n",
        "# features\n",
        "X = df[[\"budget\",\"runtime\"]]\n",
        "# target attribute\n",
        "y = df[\"popularity\"]\n",
        "\n",
        "# 80% for training and 20% for testing-validation\n",
        "X_train, X_remaining, y_train, y_remaining = train_test_split(X, y, test_size=0.20, random_state=42)\n",
        "# 10% validation, 10% test\n",
        "X_test, X_val, y_test, y_val = train_test_split(X_remaining, y_remaining, test_size=0.50, random_state=42)\n",
        "\n",
        "K_range = np.arange(1, 40)\n",
        "score_list = []\n",
        "\n",
        "for k in K_range:\n",
        "  # create a new model with current K\n",
        "  knn = KNeighborsRegressor(k, metric=\"euclidean\")\n",
        "  # fit training data\n",
        "  knn.fit(X_train, y_train)\n",
        "  # predict the validation data\n",
        "  y_pred = knn.predict(X_val)\n",
        "  # obtain the accuracy value\n",
        "  score = mean_squared_error(y_val, y_pred, squared=False) #mse \n",
        "  score_list.append(score)\n",
        "\n",
        "print(score_list)\n",
        "plt.figure(figsize=(12, 6))  \n",
        "plt.plot(K_range, score_list, color='black', linestyle='dashed', marker='o',  \n",
        "         markerfacecolor='red', markersize=10)\n",
        "plt.title('Mean Squared Error wrt. K', fontsize=15)  \n",
        "plt.xlabel('K')  \n",
        "plt.ylabel('MSE')\n",
        "plt.xticks(K_range)\n",
        "plt.grid()\n",
        "plt.show()\n",
        "\n",
        "# create a new model with current K\n",
        "knn = KNeighborsRegressor(5, metric=\"euclidean\") #regressor\n",
        "# fit training data\n",
        "knn.fit(X_train, y_train)\n",
        "# predict the validation data\n",
        "y_pred = knn.predict(X_test)"
      ],
      "execution_count": null,
      "outputs": [
        {
          "output_type": "stream",
          "text": [
            "[68.44525197315991, 65.84129290445263, 63.84388794450756, 62.68213824924123, 63.51495414181686, 62.725229102171255, 63.158369937765386, 64.30652329150197, 65.29672174703327, 65.22292755297273, 65.55069052915488, 63.492970899820556, 63.72443834249667, 63.9060297412726, 64.43960982958063, 64.60610114468663, 64.38935917621924, 65.11128992350064, 65.51871459219055, 65.80553947927574, 65.7577394482401, 65.5378931224946, 65.76562857589846, 65.91439993116383, 65.92971021760333, 66.18699549883218, 66.22643857084483, 66.44755045788197, 66.47489314969769, 66.51781340966902, 66.40851211987683, 65.58483763712324, 65.58625847502012, 65.70536699976422, 65.72734049511227, 65.78316218272704, 65.97741234007856, 66.0254047776944, 66.13584588317097]\n"
          ],
          "name": "stdout"
        },
        {
          "output_type": "display_data",
          "data": {
            "image/png": "[encoded data removed]",
            "text/plain": [
              "<Figure size 864x432 with 1 Axes>"
            ]
          },
          "metadata": {
            "tags": [],
            "needs_background": "light"
          }
        }
      ]
    },
    {
      "cell_type": "markdown",
      "metadata": {
        "id": "l4MtFOqW4jdQ"
      },
      "source": [
        "### Results & Discussion\n",
        "\n",
        "The models we used were Decision Tree, Random Forest and KNN. For the first part of the project KNN did not result as we expected, MSE of that model's prediction were higher than the other two. Random Forest's results suited our problem the best, however, the MSE was still high, we then used revenue and popularity as our targets and saw that we had big errors and concluded our target to be the weighted average rating and added new features. Calculating weighted rating turned out to be a better and less flawed model. Both Random Forest and Decision Tree came out better, with our Random Forest result being around 0.9 best params output being 1.22.\n",
        "\n",
        "\n"
      ]
    },
    {
      "cell_type": "markdown",
      "metadata": {
        "id": "L8mRHzGc4SH0"
      },
      "source": [
        "## Conclusion\n",
        "\n",
        "Our starting point was to evaluate the relation between different columns. However, the columns we chose did not create decent predictions when our first models were applied. In ML implementation, there have been some results with high error which shows the budget and runtime has not have the power to affect popularity as we expected.Therefore, for the final part of the project we changed our target and added new features. By increasing our features, adding country number, production company number and genre number alongside budget and runtime and also having the target as the weighted rating we saw that the model became very effective since the error was low. It can be concluded that weighted average rating which shows audience's satisfaction about a movie according to IMDb is affected by our features.\n"
      ]
    },
    {
      "cell_type": "markdown",
      "metadata": {
        "id": "8h0G5RNzuABB"
      },
      "source": [
        "## Future Work\n",
        "\n",
        "Our plan after the progress report:\n",
        "<br>Since we did not result with a good prediction, the data columns may be manipulated (for example vote, language or genre columns) and more columns may be included in the inputs. Also, profit and revenue may be tried as the target column since they are features that are shaped after the release of the movie just like the popularity. Other than the manipulations on the data and change on the inputs or outputs, new models can be tested. Moreover, with the manipulation of the data, the problem may be changed as a classification problem rather than a regression problem. The continuous columns may be seperated to the classes. Our aim for the final report is to manipulate our hypothesis for it to be a more strong one, find the best fitting model to our problem and result in a good prediction on the revenue/popularity/profit of a movie."
      ]
    },
    {
      "cell_type": "markdown",
      "metadata": {
        "id": "PSs_Ujqj7KWW"
      },
      "source": [
        "\n",
        "For future work of this project other models may be also used and the errors may even be lowered more. Also, by separating classes the success of a movie may be measured by classification problems. In the movie industry using features such as budget, runtime and production company number in a more efficient way may result in making more successful movies that fit with audience's interest. Furthermore, with using other new models more features may be added to consideration to create more successful movies. \n"
      ]
    },
    {
      "cell_type": "markdown",
      "metadata": {
        "id": "aw-zON5bt0pd"
      },
      "source": [
        "## Work Division\n",
        "<p>Lara Pole:  Writing the Introduction and Problem Definition parts.\n",
        "<br>Nazlı Gülşah Önen and Yiğit Kılıçaslan: Data Exploration (both coding and discussion)\n",
        "<br>Ayşegül Rana Erdemli: Utilized Datasets and Machine Learning parts (both coding and discussion)\n",
        "<br>Results & Discussion, Conclusion, Future Work parts were completed as a group.\n",
        "</p>\n",
        "\n"
      ]
    },
    {
      "cell_type": "markdown",
      "metadata": {
        "id": "JDU_bTgRNbXH"
      },
      "source": [
        "## Final Report Work Division\n",
        "<p>Lara Pole:  Results & Discussion, Conclusion, Future Work\n",
        "<br>Nazlı Gülşah Önen: Problem Definition edit, Utilized Datasets additional parts\n",
        "<br>Yiğit Kılıçaslan & Ayşegül Rana Erdemli: ML parts explanations\n",
        "<br> The new coding parts in the utilized datasets and the ML parts were completed as a group.\n",
        "</p>"
      ]
    }
  ]
}