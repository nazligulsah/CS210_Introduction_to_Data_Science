{
  "nbformat": 4,
  "nbformat_minor": 0,
  "metadata": {
    "colab": {
      "provenance": [],
      "toc_visible": true,
      "include_colab_link": true
    },
    "kernelspec": {
      "display_name": "Python 3",
      "name": "python3"
    }
  },
  "cells": [
    {
      "cell_type": "markdown",
      "metadata": {
        "id": "view-in-github",
        "colab_type": "text"
      },
      "source": [
        "<a href=\"https://colab.research.google.com/github/nazligulsah/CS210_Introduction_to_Data_Science/blob/main/Onen_NazliGulsah_hw3.ipynb\" target=\"_parent\"><img src=\"https://colab.research.google.com/assets/colab-badge.svg\" alt=\"Open In Colab\"/></a>"
      ]
    },
    {
      "cell_type": "markdown",
      "metadata": {
        "id": "YohSkewix2HX"
      },
      "source": [
        "# Homework 3: Exploratory Data Analysis\n",
        "\n",
        "*In this homework, you are going to perform exploratory data analysis (EDA) on a dataset compiled by a research group from Harvard University.*\n",
        "\n",
        "**Submission Instructions**\n",
        "\n",
        "---\n",
        "It is important that you follow the submission instructions. \n",
        "1. Copy this assignment notebook to your Drive. <font color = 'red'> `File` --> `Save a copy in Drive`</font>. Rename it as <font color = 'green'>`Lastname_Firstname_hw3`</font>.\n",
        "\n",
        "2. Write your solutions in the cells  marked <font color = 'green'>`# your code`</font>.\n",
        "\n",
        "3. **Do not delete your outputs. They are essential for the grading. Make sure that cells containing your solutions are executed, and the results are displayed on the notebook.**\n",
        "\n",
        "4. When you're done please submit your solutions as an <font color=\"red\">`.ipynb`</font> file. To do so:\n",
        "\n",
        "  - Click on <font color=\"red\">`File`</font>  at the top left on the Colab screen, then click on <font color = 'red'>`Download .ipynb`</font>.\n",
        "  - Then submit the downloaded <font color=\"red\">`.ipynb`</font> version of your work on SUCourse.\n",
        "\n",
        "\n",
        "For any question, you may send an email to your TAs and LAs.\n",
        "\n",
        "---\n",
        "\n"
      ]
    },
    {
      "cell_type": "markdown",
      "metadata": {
        "id": "IRa9WpBUyaFK"
      },
      "source": [
        "## Income Segregation by Education Level\n",
        "\n",
        "In 2017, Chetty et al. compiled an anonymous data from USA Federal Government, in which they recorded the earnings of students born between 1980 and 1990 in their thirties. In addition, they recorded the earnings of their parents as well. In their study, they analyze the future financial status of students coming from different parental income levels and display how colleges help students progress.\n",
        "\n",
        "More information and the paper itself can be obtained from here: https://opportunityinsights.org/paper/undermatching/\n",
        "\n",
        "In this homework, you are going to analyze the dataset compiled in this study, `mrc_table3.csv`. In addition to the dataset, we also shared a PDF document, named `Codebook-MRC-Table-3.pdf`, prepared by the research team as the data dictionary that displays the columns and their explanations.\n",
        "\n",
        "The dataset is indexed by `cohorts`. In this context, a cohort is a group of students of the same age and college. In the image below a snippet from the dataset can be observed. Although `cohort` is a column name for the students' age; the actual cohort can be conceptualized as of age + college. For instance, the first row in the image below captures the attributes of the students born in 1980 and attended Brown University.\n",
        "\n",
        "![](https://i.ibb.co/cbvSpL5/gg.png)\n",
        "\n",
        "As stated above, the dataset stores the estimated financial status of the students in their 30s and their parents. In addition to storing mean income values to represent financial status, such as `par_mean` and `k_mean`, the researchers also provide a set of attributes to capture the relative information. To this end, they utilize *quintiles* and *percentiles* to represent fractions of the cohort.\n",
        "\n",
        "Below, you may find some of the column patterns that utilize quintiles and percentiles, along with their explanations.\n",
        "\n",
        "- **par_q[PARQUINT]**: Fraction of parents in income quintile [PARQUINT]. 1 is the bottom quintile and 5 is the top.\n",
        "  - Remember that each row stores the financial status of that cohort's students and their families financial attributes. The value in this attribute captures the fraction of parents that reside in the [PARQUINT] quintile. \n",
        "  - Since, with quintiles we basically divide the data into 5 different regions, [PARQUINT] can take values between 1 and 5. \n",
        "    - 1 -> bottom quintile, in other words, lowest income level\n",
        "    - 5 -> top quintile, or the highest income level\n",
        "  - *So, there are five columns that store the fraction of parents in that quintile, e.g. `par_q5` stores the percentage of the parents that are in the top quintile.*\n",
        "\n",
        "- **k_top[PCTILE]pc**: Fraction of students in the top [PCTILE] percentile. For instance, `top1pc` refers to children in the top 1% of the income\n",
        "distribution. \n",
        "  - The columns that contains the [PCTILE] tag captures the fractions with respect to `percentiles`.\n",
        "  - As stated in the these attributes store the percentage of students that reside in the top [PCTILE]% of the income.\n",
        "    - *e.g. If `k_top1pc` is set to 0.56, then we can conclude that 56% of the students in that cohort are in the top 1% of the income distribution in their 30s.*\n",
        "\n",
        "And lastly, the researchers provide conditional probabilities as a financial projection for the students.\n",
        "\n",
        "- **ktop1pc_cond_parq[PARQUINT]**: Probability of student in top 1%, conditional on parent in quintile [PARQUINT].\n",
        "  - *e.g. ktop1pc_cond_parq1 stores the probability of a student being in the top 1% income level given that his/her parents were in the bottom quintile.*\n",
        "\n",
        "- **kq[KIDQUINT]_cond_parq[PARQUINT]**: Probability of kid in quintile [KIDQUINT], conditional on parent in quintile [PARQUINT].\n",
        "  - *e.g. kq5_cond_parq1 stores the probability of a student being in the top income quintile given that his/her parents were in the bottom quintile.*\n",
        "\n",
        "*p.s. In this notebook, the terms `students`, `child` and `children` are used interchangeably. Each usage refers to a cohort.* \n",
        "\n",
        "\n",
        "\n"
      ]
    },
    {
      "cell_type": "code",
      "metadata": {
        "colab": {
          "base_uri": "https://localhost:8080/"
        },
        "id": "2ChTXnRVx8v4",
        "outputId": "ff7567bc-91c0-4f7d-a8e2-cc4eb81a4583"
      },
      "source": [
        "from google.colab import drive\n",
        "drive.mount(\"./drive\")\n",
        "\n",
        "path_prefix = \"./drive/My Drive\""
      ],
      "execution_count": null,
      "outputs": [
        {
          "output_type": "stream",
          "text": [
            "Drive already mounted at ./drive; to attempt to forcibly remount, call drive.mount(\"./drive\", force_remount=True).\n"
          ],
          "name": "stdout"
        }
      ]
    },
    {
      "cell_type": "code",
      "metadata": {
        "id": "6h1nTH78yIvc"
      },
      "source": [
        "import pandas as pd\n",
        "import numpy as np\n",
        "import matplotlib.pyplot as plt\n",
        "from os.path import join\n",
        "\n",
        "%matplotlib inline"
      ],
      "execution_count": null,
      "outputs": []
    },
    {
      "cell_type": "code",
      "metadata": {
        "colab": {
          "base_uri": "https://localhost:8080/",
          "height": 313
        },
        "id": "x3F7ycZnyY1-",
        "outputId": "7b3955a8-3d46-4df1-d736-a5471875b3ec"
      },
      "source": [
        "fname = \"mrc_table3.csv\"\n",
        "df = pd.read_csv(join(path_prefix, fname))\n",
        "print(df.shape)\n",
        "df.head(2)"
      ],
      "execution_count": null,
      "outputs": [
        {
          "output_type": "stream",
          "text": [
            "(29580, 82)\n"
          ],
          "name": "stdout"
        },
        {
          "output_type": "execute_result",
          "data": {
            "text/html": [
              "<div>\n",
              "<style scoped>\n",
              "    .dataframe tbody tr th:only-of-type {\n",
              "        vertical-align: middle;\n",
              "    }\n",
              "\n",
              "    .dataframe tbody tr th {\n",
              "        vertical-align: top;\n",
              "    }\n",
              "\n",
              "    .dataframe thead th {\n",
              "        text-align: right;\n",
              "    }\n",
              "</style>\n",
              "<table border=\"1\" class=\"dataframe\">\n",
              "  <thead>\n",
              "    <tr style=\"text-align: right;\">\n",
              "      <th></th>\n",
              "      <th>super_opeid</th>\n",
              "      <th>cohort</th>\n",
              "      <th>name</th>\n",
              "      <th>type</th>\n",
              "      <th>tier</th>\n",
              "      <th>tier_name</th>\n",
              "      <th>iclevel</th>\n",
              "      <th>region</th>\n",
              "      <th>state</th>\n",
              "      <th>cz</th>\n",
              "      <th>czname</th>\n",
              "      <th>cfips</th>\n",
              "      <th>county</th>\n",
              "      <th>multi</th>\n",
              "      <th>count</th>\n",
              "      <th>female</th>\n",
              "      <th>k_married</th>\n",
              "      <th>par_mean</th>\n",
              "      <th>par_median</th>\n",
              "      <th>par_rank</th>\n",
              "      <th>par_q1</th>\n",
              "      <th>par_q2</th>\n",
              "      <th>par_q3</th>\n",
              "      <th>par_q4</th>\n",
              "      <th>par_q5</th>\n",
              "      <th>par_top10pc</th>\n",
              "      <th>par_top5pc</th>\n",
              "      <th>par_top1pc</th>\n",
              "      <th>par_toppt1pc</th>\n",
              "      <th>k_rank</th>\n",
              "      <th>k_mean</th>\n",
              "      <th>k_median</th>\n",
              "      <th>k_median_nozero</th>\n",
              "      <th>k_0inc</th>\n",
              "      <th>k_q1</th>\n",
              "      <th>k_q2</th>\n",
              "      <th>k_q3</th>\n",
              "      <th>k_q4</th>\n",
              "      <th>k_q5</th>\n",
              "      <th>k_top10pc</th>\n",
              "      <th>...</th>\n",
              "      <th>k_rank_cond_parq1</th>\n",
              "      <th>k_rank_cond_parq2</th>\n",
              "      <th>k_rank_cond_parq3</th>\n",
              "      <th>k_rank_cond_parq4</th>\n",
              "      <th>k_rank_cond_parq5</th>\n",
              "      <th>kq1_cond_parq1</th>\n",
              "      <th>kq2_cond_parq1</th>\n",
              "      <th>kq3_cond_parq1</th>\n",
              "      <th>kq4_cond_parq1</th>\n",
              "      <th>kq5_cond_parq1</th>\n",
              "      <th>kq1_cond_parq2</th>\n",
              "      <th>kq2_cond_parq2</th>\n",
              "      <th>kq3_cond_parq2</th>\n",
              "      <th>kq4_cond_parq2</th>\n",
              "      <th>kq5_cond_parq2</th>\n",
              "      <th>kq1_cond_parq3</th>\n",
              "      <th>kq2_cond_parq3</th>\n",
              "      <th>kq3_cond_parq3</th>\n",
              "      <th>kq4_cond_parq3</th>\n",
              "      <th>kq5_cond_parq3</th>\n",
              "      <th>kq1_cond_parq4</th>\n",
              "      <th>kq2_cond_parq4</th>\n",
              "      <th>kq3_cond_parq4</th>\n",
              "      <th>kq4_cond_parq4</th>\n",
              "      <th>kq5_cond_parq4</th>\n",
              "      <th>kq1_cond_parq5</th>\n",
              "      <th>kq2_cond_parq5</th>\n",
              "      <th>kq3_cond_parq5</th>\n",
              "      <th>kq4_cond_parq5</th>\n",
              "      <th>kq5_cond_parq5</th>\n",
              "      <th>ktop1pc_cond_parq1</th>\n",
              "      <th>ktop1pc_cond_parq2</th>\n",
              "      <th>ktop1pc_cond_parq3</th>\n",
              "      <th>ktop1pc_cond_parq4</th>\n",
              "      <th>ktop1pc_cond_parq5</th>\n",
              "      <th>k_married_cond_parq1</th>\n",
              "      <th>k_married_cond_parq2</th>\n",
              "      <th>k_married_cond_parq3</th>\n",
              "      <th>k_married_cond_parq4</th>\n",
              "      <th>k_married_cond_parq5</th>\n",
              "    </tr>\n",
              "  </thead>\n",
              "  <tbody>\n",
              "    <tr>\n",
              "      <th>0</th>\n",
              "      <td>30955</td>\n",
              "      <td>1980</td>\n",
              "      <td>ASA Institute Of Business &amp; Computer Technology</td>\n",
              "      <td>3.0</td>\n",
              "      <td>11</td>\n",
              "      <td>Two-year for-profit</td>\n",
              "      <td>2.0</td>\n",
              "      <td>1.0</td>\n",
              "      <td>NY</td>\n",
              "      <td>19400.0</td>\n",
              "      <td>New York</td>\n",
              "      <td>36047.0</td>\n",
              "      <td>Kings</td>\n",
              "      <td>0.0</td>\n",
              "      <td>NaN</td>\n",
              "      <td>0.0</td>\n",
              "      <td>NaN</td>\n",
              "      <td>NaN</td>\n",
              "      <td>NaN</td>\n",
              "      <td>NaN</td>\n",
              "      <td>NaN</td>\n",
              "      <td>NaN</td>\n",
              "      <td>NaN</td>\n",
              "      <td>NaN</td>\n",
              "      <td>NaN</td>\n",
              "      <td>NaN</td>\n",
              "      <td>NaN</td>\n",
              "      <td>NaN</td>\n",
              "      <td>NaN</td>\n",
              "      <td>NaN</td>\n",
              "      <td>NaN</td>\n",
              "      <td>NaN</td>\n",
              "      <td>NaN</td>\n",
              "      <td>NaN</td>\n",
              "      <td>NaN</td>\n",
              "      <td>NaN</td>\n",
              "      <td>NaN</td>\n",
              "      <td>NaN</td>\n",
              "      <td>NaN</td>\n",
              "      <td>NaN</td>\n",
              "      <td>...</td>\n",
              "      <td>NaN</td>\n",
              "      <td>NaN</td>\n",
              "      <td>NaN</td>\n",
              "      <td>NaN</td>\n",
              "      <td>NaN</td>\n",
              "      <td>NaN</td>\n",
              "      <td>NaN</td>\n",
              "      <td>NaN</td>\n",
              "      <td>NaN</td>\n",
              "      <td>NaN</td>\n",
              "      <td>NaN</td>\n",
              "      <td>NaN</td>\n",
              "      <td>NaN</td>\n",
              "      <td>NaN</td>\n",
              "      <td>NaN</td>\n",
              "      <td>NaN</td>\n",
              "      <td>NaN</td>\n",
              "      <td>NaN</td>\n",
              "      <td>NaN</td>\n",
              "      <td>NaN</td>\n",
              "      <td>NaN</td>\n",
              "      <td>NaN</td>\n",
              "      <td>NaN</td>\n",
              "      <td>NaN</td>\n",
              "      <td>NaN</td>\n",
              "      <td>NaN</td>\n",
              "      <td>NaN</td>\n",
              "      <td>NaN</td>\n",
              "      <td>NaN</td>\n",
              "      <td>NaN</td>\n",
              "      <td>NaN</td>\n",
              "      <td>NaN</td>\n",
              "      <td>NaN</td>\n",
              "      <td>NaN</td>\n",
              "      <td>NaN</td>\n",
              "      <td>NaN</td>\n",
              "      <td>NaN</td>\n",
              "      <td>NaN</td>\n",
              "      <td>NaN</td>\n",
              "      <td>NaN</td>\n",
              "    </tr>\n",
              "    <tr>\n",
              "      <th>1</th>\n",
              "      <td>30955</td>\n",
              "      <td>1981</td>\n",
              "      <td>ASA Institute Of Business &amp; Computer Technology</td>\n",
              "      <td>3.0</td>\n",
              "      <td>11</td>\n",
              "      <td>Two-year for-profit</td>\n",
              "      <td>2.0</td>\n",
              "      <td>1.0</td>\n",
              "      <td>NY</td>\n",
              "      <td>19400.0</td>\n",
              "      <td>New York</td>\n",
              "      <td>36047.0</td>\n",
              "      <td>Kings</td>\n",
              "      <td>0.0</td>\n",
              "      <td>NaN</td>\n",
              "      <td>0.0</td>\n",
              "      <td>NaN</td>\n",
              "      <td>NaN</td>\n",
              "      <td>NaN</td>\n",
              "      <td>NaN</td>\n",
              "      <td>NaN</td>\n",
              "      <td>NaN</td>\n",
              "      <td>NaN</td>\n",
              "      <td>NaN</td>\n",
              "      <td>NaN</td>\n",
              "      <td>NaN</td>\n",
              "      <td>NaN</td>\n",
              "      <td>NaN</td>\n",
              "      <td>NaN</td>\n",
              "      <td>NaN</td>\n",
              "      <td>NaN</td>\n",
              "      <td>NaN</td>\n",
              "      <td>NaN</td>\n",
              "      <td>NaN</td>\n",
              "      <td>NaN</td>\n",
              "      <td>NaN</td>\n",
              "      <td>NaN</td>\n",
              "      <td>NaN</td>\n",
              "      <td>NaN</td>\n",
              "      <td>NaN</td>\n",
              "      <td>...</td>\n",
              "      <td>NaN</td>\n",
              "      <td>NaN</td>\n",
              "      <td>NaN</td>\n",
              "      <td>NaN</td>\n",
              "      <td>NaN</td>\n",
              "      <td>NaN</td>\n",
              "      <td>NaN</td>\n",
              "      <td>NaN</td>\n",
              "      <td>NaN</td>\n",
              "      <td>NaN</td>\n",
              "      <td>NaN</td>\n",
              "      <td>NaN</td>\n",
              "      <td>NaN</td>\n",
              "      <td>NaN</td>\n",
              "      <td>NaN</td>\n",
              "      <td>NaN</td>\n",
              "      <td>NaN</td>\n",
              "      <td>NaN</td>\n",
              "      <td>NaN</td>\n",
              "      <td>NaN</td>\n",
              "      <td>NaN</td>\n",
              "      <td>NaN</td>\n",
              "      <td>NaN</td>\n",
              "      <td>NaN</td>\n",
              "      <td>NaN</td>\n",
              "      <td>NaN</td>\n",
              "      <td>NaN</td>\n",
              "      <td>NaN</td>\n",
              "      <td>NaN</td>\n",
              "      <td>NaN</td>\n",
              "      <td>NaN</td>\n",
              "      <td>NaN</td>\n",
              "      <td>NaN</td>\n",
              "      <td>NaN</td>\n",
              "      <td>NaN</td>\n",
              "      <td>NaN</td>\n",
              "      <td>NaN</td>\n",
              "      <td>NaN</td>\n",
              "      <td>NaN</td>\n",
              "      <td>NaN</td>\n",
              "    </tr>\n",
              "  </tbody>\n",
              "</table>\n",
              "<p>2 rows × 82 columns</p>\n",
              "</div>"
            ],
            "text/plain": [
              "   super_opeid  cohort  ... k_married_cond_parq4  k_married_cond_parq5\n",
              "0        30955    1980  ...                  NaN                   NaN\n",
              "1        30955    1981  ...                  NaN                   NaN\n",
              "\n",
              "[2 rows x 82 columns]"
            ]
          },
          "metadata": {
            "tags": []
          },
          "execution_count": 65
        }
      ]
    },
    {
      "cell_type": "markdown",
      "metadata": {
        "id": "p2i_C80cNaEk"
      },
      "source": [
        "## Get to Know the Dataset\n",
        "\n",
        "In this section, you are going to display the distribution of some attributes to better understand the data you are dealing with."
      ]
    },
    {
      "cell_type": "markdown",
      "metadata": {
        "id": "rGyEj6s9TlDa"
      },
      "source": [
        "### Q1: NaN Values\n",
        "\n",
        "In this notebook, we are not interested in all of the attributes. From the non-financial attributes, we are only interested in the `cohort`, `name`, `tier_name` and `type` columns. You need to make sure that there is no NaN value in these columns. And for the financial attributes we're interested in the all of the columns begining with `par_mean` (index 17 in the columns) till the end.\n",
        "\n",
        "1. Check and print the NaN distributions in `cohort`, `name`, `tier_name` and `type` columns. If there are any NaN values in those columns, remove the corresponding rows.\n",
        "2. Directly remove the rows where at least one NaN value exists in the financial attributes. *Notice that the columns starting from index 17 till the end are all financial attributes.*\n"
      ]
    },
    {
      "cell_type": "code",
      "metadata": {
        "colab": {
          "base_uri": "https://localhost:8080/"
        },
        "id": "CTreFkXRb_FP",
        "outputId": "21409102-80b2-4365-ef80-820f985538c3"
      },
      "source": [
        "# your code\n",
        "()\n",
        "\n",
        "print(\"Number of NaN on non-financial colums:\")\n",
        "print(df.iloc[:,1:5].isnull().sum())\n",
        "\n",
        "print(\"Number of missing value on non-financial colums after removed of missing value: \")\n",
        "df = df.dropna(axis=\"index\", how = \"any\",subset=df.iloc[:,1:5].columns)\n",
        "print(df.iloc[:,1:5].isnull().sum)\n",
        "\n",
        "print(\"Number of missing value on financial colums:\")\n",
        "print(df.iloc[:,17:].isnull().sum)\n",
        "\n",
        "df = df.dropna(axis=\"index\", how = \"any\",subset=df.iloc[:,17:].columns)\n",
        "print(df.iloc[:,17:].isnull().sum)\n",
        "\n",
        "#print(df)"
      ],
      "execution_count": null,
      "outputs": [
        {
          "output_type": "stream",
          "text": [
            "Number of NaN on non-financial colums:\n",
            "cohort     0\n",
            "name       0\n",
            "type      24\n",
            "tier       0\n",
            "dtype: int64\n",
            "Number of missing value on non-financial colums after removed of missing value: \n",
            "<bound method DataFrame.sum of        cohort   name   type   tier\n",
            "0       False  False  False  False\n",
            "1       False  False  False  False\n",
            "2       False  False  False  False\n",
            "3       False  False  False  False\n",
            "4       False  False  False  False\n",
            "...       ...    ...    ...    ...\n",
            "29551   False  False  False  False\n",
            "29552   False  False  False  False\n",
            "29553   False  False  False  False\n",
            "29554   False  False  False  False\n",
            "29555   False  False  False  False\n",
            "\n",
            "[29556 rows x 4 columns]>\n",
            "Number of missing value on financial colums:\n",
            "<bound method DataFrame.sum of        par_mean  par_median  ...  k_married_cond_parq4  k_married_cond_parq5\n",
            "0          True        True  ...                  True                  True\n",
            "1          True        True  ...                  True                  True\n",
            "2         False       False  ...                 False                 False\n",
            "3         False       False  ...                 False                 False\n",
            "4         False       False  ...                 False                 False\n",
            "...         ...         ...  ...                   ...                   ...\n",
            "29551     False       False  ...                 False                 False\n",
            "29552     False       False  ...                 False                 False\n",
            "29553     False       False  ...                 False                 False\n",
            "29554     False       False  ...                 False                 False\n",
            "29555     False       False  ...                 False                 False\n",
            "\n",
            "[29556 rows x 65 columns]>\n",
            "<bound method DataFrame.sum of        par_mean  par_median  ...  k_married_cond_parq4  k_married_cond_parq5\n",
            "2         False       False  ...                 False                 False\n",
            "3         False       False  ...                 False                 False\n",
            "4         False       False  ...                 False                 False\n",
            "5         False       False  ...                 False                 False\n",
            "6         False       False  ...                 False                 False\n",
            "...         ...         ...  ...                   ...                   ...\n",
            "29551     False       False  ...                 False                 False\n",
            "29552     False       False  ...                 False                 False\n",
            "29553     False       False  ...                 False                 False\n",
            "29554     False       False  ...                 False                 False\n",
            "29555     False       False  ...                 False                 False\n",
            "\n",
            "[26095 rows x 65 columns]>\n"
          ],
          "name": "stdout"
        }
      ]
    },
    {
      "cell_type": "markdown",
      "metadata": {
        "id": "r6eR2fpjPSpW"
      },
      "source": [
        "### Q2: College Tier Distribution\n",
        "\n",
        "In the dataset, colleges are categorized into types and tiers at differing granularities. In the `type` column, the colleges are categorized as `public`, `private non-profit` and `for-profit`.\n",
        "\n",
        "Find the number of colleges in each type and display their percentages as a bar chart. \n",
        "\n",
        "The result should look like the figure below.\n",
        "\n",
        "![](https://i.ibb.co/2gSJCQ6/q1-1.png)"
      ]
    },
    {
      "cell_type": "code",
      "metadata": {
        "colab": {
          "base_uri": "https://localhost:8080/",
          "height": 360
        },
        "id": "fmYDpeI0OQMe",
        "outputId": "2cb35716-09de-4316-d6ce-a076a4342f6f"
      },
      "source": [
        "# your code\n",
        "#Type :\n",
        "\n",
        "#1 = public\n",
        "#2 = private non-profit\n",
        "#3 = for-profit\n",
        "\n",
        "public = df[df[\"type\"] == 1].shape[0]\n",
        "non_profit = df[df[\"type\"]== 2.0].shape[0]\n",
        "for_profit = df[df[\"type\"]== 3.0].shape[0]\n",
        "\n",
        "total = public + non_profit + for_profit\n",
        "a = (public/total)*100\n",
        "b = (non_profit/total)*100\n",
        "c = (for_profit/total)*100\n",
        "#print(a)\n",
        "#print(b). ## check the result\n",
        "#print(c)\n",
        "fig = plt.figure()\n",
        "x = fig.add_axes([0,0,1.5,0.92])\n",
        "c_type = [ \"for-profit\",\"private non-profit\",\"public\"]\n",
        "share = [c,b,a]\n",
        "x.barh(c_type, share, height= 0.5)\n",
        "x.set_xticks([0,12,25,38,50])\n",
        "x.set_xticklabels([\"0%\",\"12%\",\"25%\",\"38%\",\"50%\"])\n",
        "x.set_xlabel(\"Share\")\n",
        "x.set_ylabel(\"type\")\n",
        "x.set_title(\"College Distribution by Type\");\n",
        "plt.grid(color='white',linestyle= '-', linewidth=0.7, axis='x')\n",
        "plt.show\n"
      ],
      "execution_count": null,
      "outputs": [
        {
          "output_type": "execute_result",
          "data": {
            "text/plain": [
              "<function matplotlib.pyplot.show>"
            ]
          },
          "metadata": {
            "tags": []
          },
          "execution_count": 11
        },
        {
          "output_type": "display_data",
          "data": {
            "image/png": "[encoded data removed]",
            "text/plain": [
              "<Figure size 432x288 with 1 Axes>"
            ]
          },
          "metadata": {
            "tags": [],
            "needs_background": "light"
          }
        }
      ]
    },
    {
      "cell_type": "markdown",
      "metadata": {
        "id": "gU1udO6vRSrC"
      },
      "source": [
        "### Q3: Student & Parent Income Distribution\n",
        "\n",
        "Columns `par_mean` and `k_mean` store the mean income for the parents and students in a cohort. In order to understand the overall distribution, display the `par_mean` and `k_mean` attributes as boxplots on the same figure.\n",
        "\n",
        "However, the mean distributions are highly skewed. So, in order to better evaluate the distributions, we can remove the outliers. \n",
        "\n",
        "- Create a 2x1 grid layout. Display the boxplots of the original distributions on the left. \n",
        "\n",
        "- Remove the outliers from both of the distributions by utilizing 1.5xIQR rule.\n",
        "\n",
        "- Generate the boxplots for the resulting distributions on the right axes. \n",
        "\n",
        "The result should look like the figure below.\n",
        "\n",
        "![](https://i.ibb.co/YkSzc9d/q2.png)"
      ]
    },
    {
      "cell_type": "code",
      "metadata": {
        "colab": {
          "base_uri": "https://localhost:8080/",
          "height": 312
        },
        "id": "gGama5zVcbyG",
        "outputId": "429878a1-2924-4674-f5c9-eb4598710dec"
      },
      "source": [
        "# your code\n",
        "df_par_mean = df[\"par_mean\"]\n",
        "df_k_mean = df[\"k_mean\"]\n",
        "\n",
        "values = [df_par_mean,df_k_mean]\n",
        "\n",
        "def Remove_Outliers(x):\n",
        "  result = []\n",
        "  upper_quartile = np.percentile(x,75)\n",
        "  lower_quartile = np.percentile(x,25)\n",
        "  IQR = (upper_quartile-lower_quartile)*1.5\n",
        "  \n",
        "  for i in x.tolist():\n",
        "    if i >= (lower_quartile-IQR) and i <= (upper_quartile+IQR):\n",
        "      result.append(i)\n",
        "  return result\n",
        "  \n",
        "removed_values = [Remove_Outliers(df_par_mean),Remove_Outliers(df_k_mean)]\n",
        " \n",
        "fig, (ax1,ax2) = plt.subplots(nrows=1, ncols =2 ,figsize=(20,6))\n",
        "ax1.boxplot(values, patch_artist=True, boxprops={'facecolor':'white','edgecolor': 'cornflowerblue', }, medianprops={'color':'green'})\n",
        "\n",
        "max_value = df_par_mean.max()\n",
        "a = int(max_value) \n",
        "y_loc = np.linspace(0, a, num=10)\n",
        "y_labels = [f\"${value*10**-3:.0f}K\" for value in y_loc]\n",
        "\n",
        "\n",
        "ax1.set_title(\"Mean Income Distribution per Parents and Students\")\n",
        "ax1.set_ylabel(\"Income in($) Thousands\")\n",
        "ax1.set_xticklabels([\"Parent Mean Income\", \"Student Mean Income\"])\n",
        "ax1.set_yticks(y_loc)\n",
        "ax1.set_yticklabels(y_labels)\n",
        "ax1.grid();\n",
        "\n",
        "\n",
        "y_tick2 = np.linspace(0, 204000, 10)\n",
        "y_labels2 = [f\"${value*10**-3:.0f}K\" for value in y_tick2]\n",
        "\n",
        "\n",
        "ax2.boxplot(removed_values, patch_artist=True, boxprops={'facecolor':'white','edgecolor': 'cornflowerblue', }, medianprops={'color':'orange'})\n",
        "ax2.set_title(\"Mean Income Distribution per Parents and Students\")\n",
        "ax2.set_ylabel(\"Income in($) Thousands\")\n",
        "ax2.set_xticklabels([\"Parent Mean Income\", \"Student Mean Income\"])\n",
        "ax2.set_yticks(y_tick2)\n",
        "ax2.set_yticklabels(y_labels2)\n",
        "\n",
        "ax2.grid();\n",
        " \n",
        "  \n",
        "plt.show()\n",
        "\n"
      ],
      "execution_count": null,
      "outputs": [
        {
          "output_type": "display_data",
          "data": {
            "image/png": "[encoded data removed]",
            "text/plain": [
              "<Figure size 1440x432 with 2 Axes>"
            ]
          },
          "metadata": {
            "tags": [],
            "needs_background": "light"
          }
        }
      ]
    },
    {
      "cell_type": "markdown",
      "metadata": {
        "id": "HSBrIqgmdfR-"
      },
      "source": [
        "## Bivariate Analysis\n",
        "\n",
        "In this section,  you are going to perform bivariate analysis on different attribute pairs."
      ]
    },
    {
      "cell_type": "markdown",
      "metadata": {
        "id": "YXeg-MLgdt5O"
      },
      "source": [
        "### Q1: Parent Income Distribution by College Tier\n",
        "\n",
        "The income distribution is highly skewed as it can be observed in the previous question. With the generated charts, we see how the overall distribution is shaped with the help of boxplots. However, we can not observe how this distribution changes with respect to college tiers.\n",
        "\n",
        "As you can see from the shared data dictionary, there are 14 different college types. Instead of putting all of the tiers into account, in this question, you are going to focus on 6 of them: `Ivy Plus, Other elite schools (public and private), Highly selective public, Highly selective private, Selective public, Selective private`. Display the `par_mean` distribution for each of the selected tiers.\n",
        "\n",
        "- Group the dataframe with respect to the selected tier types.\n",
        "- For each group, display the `par_mean` attribute on the same figure as a boxplot.\n",
        "- Sort the boxplots with respect to their medians.\n",
        "\n",
        "The result should look like the figure below.\n",
        "\n",
        "![](https://iili.io/FMJMn1.png)\n"
      ]
    },
    {
      "cell_type": "markdown",
      "metadata": {
        "id": "KPujiFwMsNcB"
      },
      "source": []
    },
    {
      "cell_type": "code",
      "metadata": {
        "colab": {
          "base_uri": "https://localhost:8080/",
          "height": 424
        },
        "id": "7MMiuQTd2ceb",
        "outputId": "cbce4c30-1769-4ce0-fe6f-6037078893fa"
      },
      "source": [
        "# your code\n",
        "x_axis= [ \"Selective public\", \"Selective private\", \"Highly selective public\",\"Highly selective private\", \"Other elite schools (public and private)\",  \"Ivy Plus\"]\n",
        "\n",
        "group_collage = df.groupby(by = 'tier_name')\n",
        "\n",
        "for name, info in group_collage:\n",
        "  if name == \"Selective public\":\n",
        "    data1 = info[\"par_mean\"].to_numpy()\n",
        "  elif name == \"Selective private\":\n",
        "    data2 = info[\"par_mean\"].to_numpy()\n",
        "  elif name == \"Highly selective public\":\n",
        "    data3 = info[\"par_mean\"].to_numpy()\n",
        "  elif name == \"Highly selective private\":\n",
        "    data4 = info[\"par_mean\"].to_numpy()\n",
        "  elif name == \"Other elite schools (public and private)\":\n",
        "    data5 = info[\"par_mean\"].to_numpy()\n",
        "  elif name == \"Ivy Plus\":\n",
        "    data6 = info[\"par_mean\"].to_numpy()\n",
        " \n",
        "data = [data1, data2, data3, data4, data5, data6]\n",
        "\n",
        "fig = plt.figure(figsize=(12,5))\n",
        "\n",
        "ax = fig.add_axes([0,0,1,1])\n",
        "\n",
        "max_value = df_par_mean.max()\n",
        "a = int(max_value) \n",
        "y_loc = np.linspace(0, a, num=10)\n",
        "y_labels = [f\"${value*10**-3:.0f}K\" for value in y_loc]\n",
        "\n",
        "ax.set_yticks(y_loc)\n",
        "ax.set_yticklabels(y_labels)\n",
        "ax.set_yticklabels(y_labels)\n",
        "ax.set_xticklabels(x_axis)\n",
        "ax.grid();\n",
        "ax.set_title(\"Parent Income Distribution by College Tier\")\n",
        "bp = ax.boxplot(data)\n",
        "\n",
        "\n",
        "\n"
      ],
      "execution_count": null,
      "outputs": [
        {
          "output_type": "display_data",
          "data": {
            "image/png": "[encoded data removed]",
            "text/plain": [
              "<Figure size 864x360 with 1 Axes>"
            ]
          },
          "metadata": {
            "tags": [],
            "needs_background": "light"
          }
        }
      ]
    },
    {
      "cell_type": "markdown",
      "metadata": {
        "id": "Io8lIi9Y2yyq"
      },
      "source": [
        "### Q2: Mean Child Rank vs. Age at Income Measurement by College Tier\n",
        "\n",
        "In this question, you are going to display how the mean student income rank changes as the age of income measurement changes for the selected college tiers. In the dataset, we have students born between 1980 and 1991. In **2014**, their income level is measured. In the dataset, the `k_rank` column stores the student income rank.\n",
        "\n",
        "- First, find the age of each cohort by subtracting the birth years from the year of measurement and store them in a new column named `measurement_age`.\n",
        "\n",
        "- Group the dataframe by `tier_name` and `age`, and find the mean student income rank for each group.\n",
        "\n",
        "- For the listed tier names below, display the change of mean student income rank with respect to the age of measurement as a line chart.\n",
        "\n",
        "`Ivy Plus, Other elite schools (public and private), Highly selective public, Highly selective private, Selective public, Selective private`\n",
        "\n",
        "The result should look like the figure below.\n",
        "\n",
        "![](https://i.ibb.co/FJFZHX6/dd-3.png)\n",
        "\n",
        "*Hint: You may use the unstack function alongise transposition.*\n",
        "\n",
        "*Please visit the [documentation](https://pandas.pydata.org/pandas-docs/stable/reference/api/pandas.DataFrame.unstack.html) for the details on unstack, and [this link](https://cmdlinetips.com/2020/05/fun-with-pandas-groupby-aggregate-multi-index-and-unstack/) for the use cases.*\n",
        "\n"
      ]
    },
    {
      "cell_type": "code",
      "metadata": {
        "colab": {
          "base_uri": "https://localhost:8080/",
          "height": 397
        },
        "id": "NSz5Ooi42rhP",
        "outputId": "905b3118-e813-4be9-8a9a-b70fd3d8ea99"
      },
      "source": [
        "# your code\n",
        "df[\"measurement_age\"] = 2014- df[\"cohort\"]\n",
        "ages = np.array([23,24,25,26,27,28,29,30,31,32,33,34])\n",
        "collage_groups = df.groupby(by = 'tier_name')\n",
        "# function for k_rank and age\n",
        "data_rank = []\n",
        "data_age = []\n",
        "def InfoRankAge(sname):\n",
        "  for name, info in group_collage:\n",
        "    if name == sname:\n",
        "      data_rank = info[\"k_rank\"]\n",
        "  return data_rank\n",
        "\n",
        "def InfoRankAge(sname):\n",
        "  for name, info in group_collage:\n",
        "    if name == sname:\n",
        "      data_age = info[\"measurement_age\"]\n",
        "  return data_age\n",
        "\n",
        "dtype = [(\"k_rank\",float),(\"measurement_age\", float)]\n",
        "\n",
        "data1 = {\n",
        "    \"measurement_age\": InfoAge(\"Selective public\"),\n",
        "    \"k_rank\": InfoRank(\"Selective public\")\n",
        "}   \n",
        "df_1 = pd.DataFrame(data1)\n",
        "\n",
        "data2 = {\n",
        "    \"measurement_age\": InfoAge(\"Selective private\"),\n",
        "    \"k_rank\": InfoRank(\"Selective private\")\n",
        "}   \n",
        "df_2 = pd.DataFrame(data2)\n",
        "\n",
        "data3 = {\n",
        "    \"measurement_age\": InfoAge(\"Highly selective public\"),\n",
        "    \"k_rank\": InfoRank(\"Highly selective public\")\n",
        "}   \n",
        "df_3 = pd.DataFrame(data3)\n",
        "\n",
        "data4 = {\n",
        "    \"measurement_age\": InfoAge(\"Highly selective private\"),\n",
        "    \"k_rank\": InfoRank(\"Highly selective private\")\n",
        "}   \n",
        "df_4 = pd.DataFrame(data4)\n",
        "\n",
        "data5 = {\n",
        "    \"measurement_age\": InfoAge(\"Ivy Plus\"),\n",
        "    \"k_rank\": InfoRank(\"Ivy Plus\")\n",
        "}   \n",
        "df_5 = pd.DataFrame(data5)\n",
        "\n",
        "data6 = {\n",
        "    \"measurement_age\": InfoAge(\"Other elite schools (public and private)\"),\n",
        "    \"k_rank\": InfoRank(\"Other elite schools (public and private)\")\n",
        "}   \n",
        "df_6 = pd.DataFrame(data6)\n",
        "#print(df.groupby(by=\"measurement_age\").mean())\n",
        "def medianCalc(data_k,data_a):\n",
        "  d = {'measurement_age': data_age, 'k_rank': data_rank}\n",
        "  df = pd.DataFrame(data=d)\n",
        "  #data_dic = {34:0,33:0,32:0,31:0,30:0,29:0,28:0,27:0,26:0,25:0,24:0,23:0}\n",
        "  data_dic = {23:0,24:0,25:0,26:0,27:0,28:0,29:0,30:0,31:0,32:0,33:0,34:0}\n",
        "  age_gropus = df.groupby(by = 'measurement_age')\n",
        "  for age, info in age_gropus:\n",
        "    data_dic[age] = info[\"k_rank\"].mean()\n",
        "  return data_dic\n",
        "  \n",
        "\n",
        "data_1 = medianCalc(data1[\"k_rank\"],data1[\"measurement_age\"])\n",
        "data_2 = medianCalc(InfoRank(\"Selective private\"),InfoAge(\"Selective private\"))\n",
        "data_3 = medianCalc(InfoRank(\"Highly selective public\"),InfoAge(\"Highly selective public\"))\n",
        "data_4 = medianCalc(InfoRank(\"Highly selective private\"),InfoAge(\"Highly selective private\"))\n",
        "data_5 = medianCalc(InfoRank(\"Other elite schools (public and private)\"),InfoAge(\"Other elite schools (public and private)\"))\n",
        "data_6 = medianCalc(InfoRank(\"Ivy Plus\"),InfoAge(\"Ivy Plus\"))\n",
        "print(data_1)\n",
        "print(data_2)\n",
        "print(data_3)\n",
        "data_1 = np.fromiter(data_1.values(), dtype=float)\n",
        "data_2 = np.fromiter(data_2.values(), dtype=float)\n",
        "data_3 = np.fromiter(data_3.values(), dtype=float)\n",
        "data_4 = np.fromiter(data_4.values(), dtype=float)\n",
        "data_5 = np.fromiter(data_5.values(), dtype=float)\n",
        "data_6 = np.fromiter(data_6.values(), dtype=float)\n",
        "\n",
        "fig = plt.figure(figsize =(12, 5)) \n",
        "ax = fig.add_axes([0, 0, 1, 1]) \n",
        "plt.plot(ages, data_4, color=\"blue\", label=\"Highly selective private\", marker=\"D\")\n",
        "plt.plot(ages, data_3, color=\"orange\", label=\"Highly selective public\", marker=\"D\")\n",
        "plt.plot(ages, data_6, color=\"green\", label=\"Ivy Plus\", marker=\"D\")\n",
        "plt.plot(ages, data_5, color=\"red\", label=\"Other elite schools (public and private)\", marker=\"D\")\n",
        "plt.plot(ages, data_2, color=\"purple\", label=\"Selective private\", marker=\"D\")\n",
        "plt.plot(ages, data_1, color=\"brown\", label=\"Selective public\", marker=\"D\")\n",
        "\n",
        "\n",
        "ax.grid()\n",
        "plt.xlabel(\"Mean Student Income Rank\")\n",
        "plt.ylabel(\"Age of Income Measurment\")\n",
        "plt.title(\"Mena Child Rank vs. Age at Income Measurment by College Tier\")\n",
        "plt.legend(bbox_to_anchor=(1.05, 1), loc='upper left', borderaxespad=0., title='Tier')\n",
        "plt.show()"
      ],
      "execution_count": null,
      "outputs": [
        {
          "output_type": "stream",
          "text": [
            "{23: 0, 24: 0, 25: 0, 26: 0, 27: 0, 28: 0, 29: 0, 30: 0, 31: 0, 32: 0, 33: 0, 34: 0}\n",
            "{23: 0, 24: 0, 25: 0, 26: 0, 27: 0, 28: 0, 29: 0, 30: 0, 31: 0, 32: 0, 33: 0, 34: 0}\n",
            "{23: 0, 24: 0, 25: 0, 26: 0, 27: 0, 28: 0, 29: 0, 30: 0, 31: 0, 32: 0, 33: 0, 34: 0}\n"
          ],
          "name": "stdout"
        },
        {
          "output_type": "display_data",
          "data": {
            "image/png": "[encoded data removed]",
            "text/plain": [
              "<Figure size 864x360 with 1 Axes>"
            ]
          },
          "metadata": {
            "tags": [],
            "needs_background": "light"
          }
        }
      ]
    },
    {
      "cell_type": "markdown",
      "metadata": {
        "id": "nsDT_bBC7367"
      },
      "source": [
        "## Mobility Rate\n",
        "\n",
        "The researchers analyzed the role of colleges for students to progress their income level, especially the students coming from lower quintiles that end up in higher quintiles in their adulthoods. To this end, they derive a new metric named `mobility rate`. \n",
        "\n",
        "> \"The fraction of students who come from bottom quintile and end up in top quintile\"\n",
        "\n",
        "![](https://i.ibb.co/rpTgXq0/pl.png)\n",
        "\n",
        "In the dataset `kq5_cond_parq1` column stores the success rate of each cohort; while `par_q1` column stores the access rates.\n",
        "\n",
        "In addition to defining the success rate as P(Child in Q5 | Parent in Q1), the researchers also developed the same rate with respect to student income percentiles: P(Child in **P1** | Parent in Q1) stands for the students who come from bottom quintile and end up in top 1% percentile.  And `ktop1pc_cond_parq1` column stores those values for each cohort."
      ]
    },
    {
      "cell_type": "markdown",
      "metadata": {
        "id": "sK0XwYtQ78Pf"
      },
      "source": [
        "### Q1: Calculating the Mobility Rate\n",
        "\n",
        "In this question, you are going to calculate the mobility rate for each college and then find the top 10 colleges with the highest mobility rates.\n",
        "\n",
        "- For each cohort, in other words each row, calculate the mobility rate with both `kq5_cond_parq1` and `ktop1pc_cond_parq1` and store them in columns named `mobility_rate_q5` and `mobility_rate_p1`, respectively.\n",
        "  - `kq5_cond_parq1` * `par_q1` -> `mobility_rate_q5`\n",
        "  - `ktop1pc_cond_parq1` * `par_q1` -> `mobility_rate_p1`\n",
        "\n",
        "- Group the dataframe with respect to the colleges and find the mean of `mobility_rate_q5, mobility_rate_p1, kq5_cond_parq1, par_q1` columns. \n",
        "\n",
        "- First, sort the resulting groups, i.e. colleges, with respect to `mobility_rate_q5` and display the top 10 rows as a dataframe.\n",
        "\n",
        "- And lastly, sort the resulting groups with respect to `mobility_rate_p1` and display the top 10 rows as a dataframe."
      ]
    },
    {
      "cell_type": "code",
      "metadata": {
        "colab": {
          "base_uri": "https://localhost:8080/"
        },
        "id": "HIPqk_kGdVgS",
        "outputId": "5be80197-30b0-446f-d94c-8c23482c9264"
      },
      "source": [
        "# your code\n",
        "#create dataframe\n",
        "\n",
        "data1 = df.loc[:,'kq5_cond_parq1'].to_numpy()\n",
        "data2 = df.loc[:, 'ktop1pc_cond_parq1'].to_numpy()\n",
        "data3 = df.loc[:,'par_q1'].to_numpy()\n",
        "mq5 = []\n",
        "mq1 = []\n",
        "for i in range(len(df.index)):\n",
        "  a = data1[i]*data3[i]\n",
        "  b = data2[i]*data3[i]\n",
        "  mq5.append(a)\n",
        "  mq1.append(b)\n",
        "df['mobility_rate_q5'] = mq5\n",
        "df['mobility_rate_q1'] = mq1\n",
        "print(df)\n",
        "#print(mq5) // list of mobility_rate_q5\n",
        "#print(mq1) // list of mobility_rate_q1\n",
        "data = np.array((mq5,mq1,data2,data3))\n",
        "data = data.transpose() #to fix the shape of data take transpose\n",
        "\n",
        "#create the dataframe\n",
        "df = pd.DataFrame (data, columns = ['mobility_rate_q5','mobility_rate_q1','kq5_cond_pard1','par_q1'])\n",
        "#print(df) check the df\n",
        "# mean of \n",
        "df.mean(axis = 0)\n",
        "\n",
        "\n",
        "\n",
        "print(\"Top 10 mobility_rate_q5:\")\n",
        "df = df.nlargest(10, 'mobility_rate_q5') \n",
        "print(df[\"mobility_rate_q5\"])\n",
        "\n",
        "print(\"Top 10 mobility_rate_q1:\")\n",
        "df.nlargest(10, 'mobility_rate_q1')\n",
        "print(df[\"mobility_rate_q1\"])\n"
      ],
      "execution_count": null,
      "outputs": [
        {
          "output_type": "stream",
          "text": [
            "       super_opeid  cohort  ... mobility_rate_q5  mobility_rate_q1\n",
            "2            30955    1982  ...         0.034261          0.000009\n",
            "3            30955    1983  ...         0.007631          0.000000\n",
            "4            30955    1984  ...         0.024139          0.000000\n",
            "5            30955    1985  ...         0.034215          0.000046\n",
            "6            30955    1986  ...         0.025443          0.000046\n",
            "...            ...     ...  ...              ...               ...\n",
            "29551         8133    1987  ...         0.008377          0.000393\n",
            "29552         8133    1988  ...         0.016432          0.000000\n",
            "29553         8133    1989  ...         0.009008          0.000008\n",
            "29554         8133    1990  ...         0.008548          0.000000\n",
            "29555         8133    1991  ...         0.025572          0.000012\n",
            "\n",
            "[26095 rows x 85 columns]\n",
            "Top 10 mobility_rate_q5:\n",
            "24286    0.186017\n",
            "24284    0.155442\n",
            "2625     0.150439\n",
            "24285    0.150303\n",
            "24290    0.140149\n",
            "2627     0.139668\n",
            "24291    0.137469\n",
            "2626     0.136003\n",
            "2622     0.132275\n",
            "2624     0.130070\n",
            "Name: mobility_rate_q5, dtype: float64\n",
            "Top 10 mobility_rate_q1:\n",
            "24286    0.010075\n",
            "24284    0.004644\n",
            "2625     0.010142\n",
            "24285    0.004868\n",
            "24290    0.005387\n",
            "2627     0.007603\n",
            "24291    0.000052\n",
            "2626     0.005183\n",
            "2622     0.009066\n",
            "2624     0.009122\n",
            "Name: mobility_rate_q1, dtype: float64\n"
          ],
          "name": "stdout"
        }
      ]
    },
    {
      "cell_type": "markdown",
      "metadata": {
        "id": "8ynG8WdQEGuk"
      },
      "source": [
        "### Q2: Success vs. Access Rates by College Tier\n",
        "\n",
        "And finally, you are going to check how success and access rates change for different college tiers. In this question, you are going to focus on two college tiers: `Ivy Plus` and `Two-year for-profit`. In addition, you are going to display this relationship using only the success rate definition 2: P(Child in P1 | Parent in Q1).\n",
        "\n",
        "- Group the dataframe by college and find the mean of success and access rates for each college.\n",
        "  - Success rate: \n",
        "    - Definition 2: P(Child in P1 | Par in Q1) -> ktop1pc_cond_parq1\n",
        "  - Access rate: P(Par in Q1) -> par_q1\n",
        "\n",
        "- Display a scatter plot in which access rates are encoded in x-axis and success rates in y-axis.\n",
        "\n",
        "- At the end, each dot on the figure would represent a college. Highlight `Ivy Plus` and `Two-year for-profit` with distinct color for separability.\n",
        "\n",
        "The result should look like the figure below.\n",
        "\n",
        "![](https://iili.io/FMJ6cG.png)"
      ]
    },
    {
      "cell_type": "code",
      "metadata": {
        "colab": {
          "base_uri": "https://localhost:8080/",
          "height": 295
        },
        "id": "PHuRp7APEFcc",
        "outputId": "c6cad9d4-4b69-4afd-8319-96973d2270ef"
      },
      "source": [
        "# your code\n",
        "group_collage = df.groupby(by = 'tier_name')\n",
        "\n",
        "for name, info in group_collage:\n",
        "  if name == \"Ivy Plus\":\n",
        "    suc1 = info[\"ktop1pc_cond_parq1\"]\n",
        "    acs1 = info[\"par_q1\"]\n",
        "    collage1 = info[\"name\"]\n",
        "\n",
        "  elif name == \"Two-year for-profit\":\n",
        "    suc2 = info[\"ktop1pc_cond_parq1\"]\n",
        "    acs2 = info[\"par_q1\"]\n",
        "    collage2 = info[\"name\"]\n",
        "  else:\n",
        "    suc_other = info[\"ktop1pc_cond_parq1\"]\n",
        "    acs_other = info[\"par_q1\"]\n",
        "    collage_other = info[\"name\"]\n",
        "\n",
        "d1 = {'ktop1pc_cond_parq1': suc1, 'par_q1': acs1, 'Collage_Name': collage1}\n",
        "df_1= pd.DataFrame(data=d1)\n",
        "d2 = {'ktop1pc_cond_parq1': suc2, 'par_q1': acs2, 'Collage_Name': collage2}\n",
        "df_2 = pd.DataFrame(data=d2)\n",
        "d3 = {'ktop1pc_cond_parq1': suc_other, 'par_q1': acs_other, 'Collage_Name': collage_other}\n",
        "df_3 = pd.DataFrame(data=d3)\n",
        "\n",
        "df_1.aggregate(\"mean\", axis =  \"columns\")\n",
        "\n",
        "#df1_res\n",
        "group_collage = df_1.groupby(by = 'Collage_Name')\n",
        "df_1_res = []\n",
        "for n, g in group_collage:\n",
        "  df_1_res.append([g[\"ktop1pc_cond_parq1\"].mean(),g[\"par_q1\"].mean()])\n",
        "df_1_res_ktop, df_1_res_par1  = zip(*df_1_res)\n",
        "#df2_res\n",
        "group_collage = df_2.groupby(by = 'Collage_Name')\n",
        "df_2_res = []\n",
        "for n, g in group_collage:\n",
        "  df_2_res.append([g[\"ktop1pc_cond_parq1\"].mean(),g[\"par_q1\"].mean()])\n",
        "df_2_res_ktop, df_2_res_par1  = zip(*df_2_res)\n",
        "#df2_res\n",
        "group_collage = df_3.groupby(by = 'Collage_Name')\n",
        "df_3_res = []\n",
        "for n, g in group_collage:\n",
        "  df_3_res.append([g[\"ktop1pc_cond_parq1\"].mean(),g[\"par_q1\"].mean()])\n",
        "df_3_res_ktop, df_3_res_par1  = zip(*df_3_res)\n",
        "\n",
        "\n",
        "fig = plt.figure()\n",
        "y_loc = np.linspace(0,0.20,5)\n",
        "x_loc = np.linspace(0,0.8,9)\n",
        "plt.xticks(x_loc)\n",
        "plt.yticks(y_loc)\n",
        "plt.scatter(df_3_res_par1, df_3_res_ktop, s=5, c = \"gray\", marker = \"o\")\n",
        "plt.scatter(df_1_res_par1, df_1_res_ktop, s=20, c =\"orange\", label='Ivy Plus')\n",
        "plt.scatter(df_2_res_par1, df_2_res_ktop, s=20, c =\"blue\", label='Two-year for Profit')\n",
        "\n",
        "plt.legend(bbox_to_anchor = (0.55,1) ,loc = 'upper left', borderaxespad = 1, title = 'Tier')\n",
        "plt.title(\"Access vs Success Rate by College Tier\")\n",
        "plt.ylabel(\"Success Rate\")\n",
        "\n",
        "plt.xlabel(\"Access Rate: Percent of Parents in Bottom Quintile\")\n",
        "plt.show()\n",
        "\n"
      ],
      "execution_count": null,
      "outputs": [
        {
          "output_type": "display_data",
          "data": {
            "image/png": "[encoded data removed]",
            "text/plain": [
              "<Figure size 432x288 with 1 Axes>"
            ]
          },
          "metadata": {
            "tags": [],
            "needs_background": "light"
          }
        }
      ]
    }
  ]
}