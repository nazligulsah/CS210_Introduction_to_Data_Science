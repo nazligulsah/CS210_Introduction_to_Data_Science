{
  "nbformat": 4,
  "nbformat_minor": 0,
  "metadata": {
    "colab": {
      "provenance": [],
      "toc_visible": true,
      "include_colab_link": true
    },
    "kernelspec": {
      "display_name": "Python 3",
      "name": "python3"
    }
  },
  "cells": [
    {
      "cell_type": "markdown",
      "metadata": {
        "id": "view-in-github",
        "colab_type": "text"
      },
      "source": [
        "<a href=\"https://colab.research.google.com/github/nazligulsah/CS210_Introduction_to_Data_Science/blob/main/Onen_Nazl%C4%B1Gulsah_hw1.ipynb\" target=\"_parent\"><img src=\"https://colab.research.google.com/assets/colab-badge.svg\" alt=\"Open In Colab\"/></a>"
      ]
    },
    {
      "cell_type": "markdown",
      "metadata": {
        "id": "JD9gUM7WW8iT"
      },
      "source": [
        "# Homework 1: Strecthing Python Muscles\n",
        "\n",
        "\n",
        "*In the first homework, you are going to work on a set of Python exercises.*\n",
        "\n",
        "**Submission Instructions**\n",
        "\n",
        "---\n",
        "It is important that you follow the submission instructions. \n",
        "1. Copy this assignment notebook to your Drive. <font color = 'red'> `File` --> `Save a copy in Drive`</font>. Rename it as <font color = 'green'>`Lastname_Firstname_hw1`</font>.\n",
        "\n",
        "2. Write your solutions in the cells  marked <font color = 'green'>`# your code`</font>.\n",
        "\n",
        "3. Do not delete your outputs. They are essential for the grading. Make sure that cells containing your solutions are executed, and the results are displayed on the notebook.\n",
        "\n",
        "4. When you're done please submit your solutions as an <font color=\"red\">`.ipynb`</font> file. To do so:\n",
        "\n",
        "\n",
        "1.  Click on <font color=\"red\">`File`</font>  at the top left on the Colab screen, then click on <font color = 'red'>`Download .ipynb`</font>.\n",
        "2.   Then submit the downloaded <font color=\"red\">`.ipynb`</font> version of your work on SUCourse.\n",
        "\n",
        "\n",
        "For any question, you may send an email to the TAs and LAs.\n",
        "\n",
        "---\n",
        "\n",
        "**Important Note:**   \n",
        "In this homework, you are not allowed to use any libraries other than [`random`](https://docs.python.org/3/library/random.html). In addition, you may also use the [`pprint`](https://docs.python.org/3/library/pprint.html) library to produce better looking outputs."
      ]
    },
    {
      "cell_type": "markdown",
      "metadata": {
        "id": "wK0AhfSm417l"
      },
      "source": [
        "## Q1: Get to Know Your TAs\n",
        "\n",
        "In the cell below, you have three lists: names, surnames and mails. The information regarding your TAs are stored in these three separate lists. Moreover, the elements in the same index are associated to a particular TA. For instance, the elements at index 0 constitutes contact information for the first TA.\n",
        "\n",
        "- names[0] -> Rana Bengisu\n",
        "- surnames[0] -> Kalkan\n",
        "- mails[0] -> \"ranakalkan@sabanciuniv.edu\"\n",
        "\n",
        "Here, your goal is to print the contact information of each TA.\n",
        "\n",
        "Write a function named `print_TAs_info` that takes the given lists with the signature below, and then prints the contact information of each TA in the format below.\n",
        "\n",
        "*Hint: You may use the `zip` function.*\n",
        "\n",
        "```py\n",
        ">>> print_TAs_info(names,surnames,mails)\n",
        "Rana Bengisu Kalkan: ranakalkan@sabanciuniv.edu\n",
        "Büşra Öz: boz@sabanciuniv.edu\n",
        "Mert Gürkan: mertgurkan@sabanciuniv.edu\n",
        "Hasan Alp Boz: bozhasan@sabanciuniv.edu\n",
        "```"
      ]
    },
    {
      "cell_type": "code",
      "metadata": {
        "id": "e924Yp97oXsP"
      },
      "source": [
        "names = [\"Rana Bengisu\", \"Büşra\", \"Mert\", \"Hasan Alp\"]\n",
        "surnames = [\"Kalkan\", \"Öz\", \"Gürkan\", \"Boz\"]\n",
        "mails = [\"ranakalkan@sabanciuniv.edu\", \"boz@sabanciuniv.edu\", \"mertgurkan@sabanciuniv.edu\", \"bozhasan@sabanciuniv.edu\"]"
      ],
      "execution_count": null,
      "outputs": []
    },
    {
      "cell_type": "code",
      "metadata": {
        "id": "waAKTlsMTXdN",
        "outputId": "8667069c-61d8-4c26-8a77-ad0504102c2e",
        "colab": {
          "base_uri": "https://localhost:8080/",
          "height": 85
        }
      },
      "source": [
        "# your code\n",
        "import pprint\n",
        "def print_TAs_info(names,surnames,mails):\n",
        "  print (names + \" \" + surnames + \": \" + mails)\n",
        "\n",
        "names = [\"Rana Bengisu\", \"Büşra\", \"Mert\", \"Hasan Alp\"]\n",
        "surnames = [\"Kalkan\", \"Öz\", \"Gürkan\", \"Boz\"]\n",
        "mails = [\"ranakalkan@sabanciuniv.edu\", \"boz@sabanciuniv.edu\", \"mertgurkan@sabanciuniv.edu\", \"bozhasan@sabanciuniv.edu\"]\n",
        "\n",
        "for x in range(len(names)):\n",
        "   print_TAs_info(names[x],surnames[x],mails[x])"
      ],
      "execution_count": null,
      "outputs": [
        {
          "output_type": "stream",
          "text": [
            "Rana Bengisu Kalkan: ranakalkan@sabanciuniv.edu\n",
            "Büşra Öz: boz@sabanciuniv.edu\n",
            "Mert Gürkan: mertgurkan@sabanciuniv.edu\n",
            "Hasan Alp Boz: bozhasan@sabanciuniv.edu\n"
          ],
          "name": "stdout"
        }
      ]
    },
    {
      "cell_type": "markdown",
      "metadata": {
        "id": "DwskSV1dAeoR"
      },
      "source": [
        "## Q2: Teaching Survey\n",
        "\n",
        "In a survey conducted by the student resources, each student was asked whether they think online or offline education is more effective. The student responses are recorded in a file named `teaching_survey.csv`. Each line contains the response of a particular student and contains her/his major alongside her answer separated by a comma.\n",
        "\n",
        "In total, we have 1020 students; 800 CS, 140 ME and 80 BIO students.\n",
        "\n",
        "![](https://i.ibb.co/p4JJq1h/ss.png)\n",
        "\n",
        "*Do not forget to add the shared file and then mount to your drive. Otherwise, you won't be able to read the file.*\n"
      ]
    },
    {
      "cell_type": "markdown",
      "metadata": {
        "id": "EJdIEenmj6W_"
      },
      "source": [
        "#### Part A\n",
        "\n",
        "Read the provided file and select 60 random student responses. Calculate the percentage of students in the sample that thinks online teaching is more effective.\n",
        "\n",
        "![](https://i.ibb.co/n0x1xFN/sample60.png)\n"
      ]
    },
    {
      "cell_type": "code",
      "metadata": {
        "id": "tbaryKClTz5Z"
      },
      "source": [
        "from google.colab import drive\n",
        "drive.mount(\"./drive/\", force_remount=True)"
      ],
      "execution_count": null,
      "outputs": []
    },
    {
      "cell_type": "code",
      "metadata": {
        "id": "VvjqL146yjie"
      },
      "source": [],
      "execution_count": null,
      "outputs": []
    },
    {
      "cell_type": "code",
      "metadata": {
        "id": "NnRDeA3_SPi0",
        "outputId": "6cbb26ad-7b93-4200-fb48-84d3c6eacbc3",
        "colab": {
          "base_uri": "https://localhost:8080/",
          "height": 51
        }
      },
      "source": [
        "# your code\n",
        "from google.colab import drive\n",
        "drive.mount(\"./drive/\", force_remount=True)\n",
        "import random \n",
        "\n",
        "path = \"./drive/My Drive/\"\n",
        "fname = \"teaching_survey.csv\"\n",
        "x = 0\n",
        "with open(path + fname, \"r\") as f:\n",
        "    lines = f.readlines()\n",
        " #   info = lines.split(\",\")\n",
        "  #  major_name = info[0]\n",
        "  #  student_choice = info[1]\n",
        "    for line in range(60):\n",
        "       choice = random.choice(lines)\n",
        "       info = choice.strip().split(\",\")\n",
        "       major_name = info[0]\n",
        "       student_choice = info[1]\n",
        "       answer = \"online\"\n",
        "     #  print (student_choice)\n",
        "      \n",
        "       if (student_choice == answer):\n",
        "         # print(\"yes\")\n",
        "          x +=1\n",
        "          \n",
        "       else:\n",
        "          x = x\n",
        "         # print (\"no\")\n",
        "#print(x)\n",
        "percantage = float(x*100) / float(60)\n",
        "print (\"%\"+ str(float(\"{:.2f}\".format(percantage))) + \" of 60 randomly students selected out of 1020 students answered as online.\")\n",
        "        "
      ],
      "execution_count": null,
      "outputs": [
        {
          "output_type": "stream",
          "text": [
            "Mounted at ./drive/\n",
            "%41.67 of 60 randomly selected out of 1020 students answered as online \n"
          ],
          "name": "stdout"
        }
      ]
    },
    {
      "cell_type": "markdown",
      "metadata": {
        "id": "pIBUWMoXSSwr"
      },
      "source": [
        "#### Part B\n",
        "\n",
        "This time you will apply stratified sampling. Sample 20 student reponses  from each major (60 in total) and  then recalculate the percentage of students in the sample that thinks online teaching is more effective. Report this number. Do you see a diffference? Why is that? Do you think it is enough to draw a random sample once.\n",
        "\n",
        "\n",
        "\n",
        "![](https://i.ibb.co/6Fg0TtW/eqaul-Sample.png)"
      ]
    },
    {
      "cell_type": "code",
      "metadata": {
        "id": "laBFy2HkSXpC",
        "outputId": "e44a1b96-ca7a-4b37-b7cf-c095a38ecb2e",
        "colab": {
          "base_uri": "https://localhost:8080/",
          "height": 51
        }
      },
      "source": [
        "# your code\n",
        "from google.colab import drive\n",
        "drive.mount(\"./drive/\", force_remount=True)\n",
        "import random \n",
        "\n",
        "path = \"./drive/My Drive/\"\n",
        "fname = \"teaching_survey.csv\"\n",
        "listCS =[] \n",
        "listME =[]\n",
        "listBIO = []\n",
        "with open(path + fname, \"r\") as f:\n",
        "  x = 0\n",
        "  y= 0\n",
        "  z= 0 \n",
        "  lines = f.readlines()\n",
        "  for i in lines:\n",
        "    info = i.strip().split(\",\")\n",
        "    major_name = info[0]\n",
        "    student_choice = info[1]\n",
        "    if major_name == \"CS\":\n",
        "      listCS.append(i)\n",
        "    elif major_name == \"ME\":\n",
        "      listME.append(i)\n",
        "    else:\n",
        "      listBIO.append(i)\n",
        "   \n",
        "#list1.append(lines)\n",
        "for i in range(20):\n",
        "  \n",
        "  choice = random.choice(listCS)\n",
        " # print(choice)\n",
        "  if choice == \"CS,online\\n\":\n",
        "    x = x+1\n",
        "#print(x)\n",
        "for i in range(20):\n",
        "  choice2 =  random.choice(listME)\n",
        "  if choice2 == \"ME,online\\n\":\n",
        "    y = y+1\n",
        "#print(y)\n",
        "for i in range(20):\n",
        "   choice3 =  random.choice(listBIO)\n",
        "   if choice3 == \"BIO,online\\n\":\n",
        "     z = z+1\n",
        "#print(z)\n",
        "percantage = ((x+y+z)*100)/float(60)\n",
        "#print(len(listCS)) \n",
        "#print(len(listME))\n",
        "#print(len(listBIO))\n",
        "print (\"%\"+ str(float(\"{:.2f}\".format(percantage))) + \" of 20 CS, 20 ME and 20 BIO students randomly selected out of 1020 students answered as online.\")\n",
        "        "
      ],
      "execution_count": null,
      "outputs": [
        {
          "output_type": "stream",
          "text": [
            "Mounted at ./drive/\n",
            "%15.0 of 20 CS, 20 ME and 20 BIO students randomly selected out of 1020 students answered as online \n"
          ],
          "name": "stdout"
        }
      ]
    },
    {
      "cell_type": "markdown",
      "metadata": {
        "id": "HMa35yitTrzR"
      },
      "source": [
        "  We can see the difference between two percantages. In my opinion the first part is more efficient. Because we choose randomly in general students. However second part we choose equal number of students in each major which is not efficent since the number of students are not equaly seperated based on their's major.For example there are  more CS students than other majors. So looking general is better. \n",
        "    Of course once random sample is not enough to find real percentage. The number of random selection can be increase to be more realistic and take aritmetic of these sample or can be take all data in this case 1020 answer.\n"
      ]
    },
    {
      "cell_type": "markdown",
      "metadata": {
        "id": "srIzF7eJYUAW"
      },
      "source": [
        "## Q3: List Reshaping\n",
        "\n",
        "List/array reshaping is one of the most fundamental operations in data manipulation. In the figure below, you see a single dimensional (1D) list named `arr` that contains integers from 1 to 6. We can cast this 1D list into a matrix as well. \n",
        "\n",
        "![](https://cdn.discordapp.com/attachments/715265876810530846/764191117067026472/list_to_matrix2.png)\n",
        "\n",
        "By referencing the figure above, write a function named `list_to_matrix` which will take a single dimensional list and two integers representing the shape of the desired matrix. At the end, it should return the resulting matrix.\n",
        "\n",
        "If the given number of rows and columns are not compatible with the number of elements, then print a warning and return `None`.\n",
        "\n",
        "```py\n",
        ">>> arr = [i for i in range(30)]\n",
        ">>> list_to_matrix(arr, 5, 6)\n",
        "[[0, 1, 2, 3, 4, 5],\n",
        " [6, 7, 8, 9, 10, 11],\n",
        " [12, 13, 14, 15, 16, 17],\n",
        " [18, 19, 20, 21, 22, 23],\n",
        " [24, 25, 26, 27, 28, 29]]\n",
        "\n",
        ">>> list_to_matrix(arr, 5, 4)  # will give a warning\n",
        "                               # because we can't place 30 elements\n",
        "                               # in a 5x4 matrix\n",
        "\"Uncompatible Shapes\"\n",
        "```"
      ]
    },
    {
      "cell_type": "code",
      "metadata": {
        "id": "iZgKbmvbZM61",
        "outputId": "cf3512e2-8e28-4be4-fb62-a4a092974cee",
        "colab": {
          "base_uri": "https://localhost:8080/",
          "height": 102
        }
      },
      "source": [
        "arr = [i for i in range(30)]\n",
        "\n",
        "# your code\n",
        "\n",
        "def list_to_matrix(arr,x,y):\n",
        "  matrix = []\n",
        "  z = 0\n",
        "  newline = '\\n'\n",
        "  if (x*y == 30):\n",
        "    lastList = []\n",
        "    for i in range(x):\n",
        "        rowList = []\n",
        "        for j in range(y):\n",
        "           rowList.append(arr[y * i + j]) \n",
        "          # '\\n' \n",
        "        matrix.append(rowList) \n",
        "    # (matrix) \n",
        "  #  for i in range(x):\n",
        "    #  print((matrix[i]))\n",
        "      \n",
        "  else:\n",
        "     # print(\"None\")\n",
        "     return \"None\"\n",
        "  return matrix\n",
        " \n",
        "#answer = list_to_matrix(arr,5,6)\n",
        "#print(answer)\n",
        "list_to_matrix(arr,5,6)"
      ],
      "execution_count": null,
      "outputs": [
        {
          "output_type": "execute_result",
          "data": {
            "text/plain": [
              "[[0, 1, 2, 3, 4, 5],\n",
              " [6, 7, 8, 9, 10, 11],\n",
              " [12, 13, 14, 15, 16, 17],\n",
              " [18, 19, 20, 21, 22, 23],\n",
              " [24, 25, 26, 27, 28, 29]]"
            ]
          },
          "metadata": {
            "tags": []
          },
          "execution_count": 1
        }
      ]
    },
    {
      "cell_type": "markdown",
      "metadata": {
        "id": "_0FzjI4Li18J"
      },
      "source": [
        "## Q4: Longest Word in a File\n",
        "\n",
        "In the shared assignment folder, you have a file named `hamlet.txt` which stores the famous play written by William Shakespeare.\n",
        "\n",
        "Write a function named `longest_word` which will take a file name as it's single parameter and then reads and returns the longest word from that file.\n",
        "\n",
        "```py\n",
        ">>> longest_word(\"hamlet.txt\")\n",
        "```\n",
        "\n",
        "*Do not forget to add the shared file and then mount to your drive. Otherwise, you won't be able to read the file.*"
      ]
    },
    {
      "cell_type": "code",
      "metadata": {
        "id": "DEQOU3viZAfj",
        "outputId": "5ee41c22-cf08-44e5-b5a6-547b04b37469",
        "colab": {
          "base_uri": "https://localhost:8080/",
          "height": 51
        }
      },
      "source": [
        "# Your code\n",
        "from google.colab import drive\n",
        "drive.mount(\"./drive/\", force_remount=True)\n",
        "path = \"./drive/My Drive/\"\n",
        "import string\n",
        "\n",
        "def longest_word(fname):\n",
        "  max_word= ''\n",
        "  list1 = []\n",
        "  list2 = [\".\",\";\",\"!\",\"?\",\",\", \":\",\"[\",\"]\"]\n",
        "  with open(path + fname, \"r\") as f:\n",
        "    words = f.read().split()\n",
        "    for i in range(len(words)):\n",
        "       list1.append(words[i])\n",
        "  #  print(list1)  check the list is correct\n",
        "      \n",
        "    for i in range (len(list1)):\n",
        "     # print(len(list1)) //31955 element in list1\n",
        "        if list1[i][0] in list2:\n",
        "          list1[i] = list1[i].strip(list1[i][0])\n",
        "         #  print(list1[i]) if  word begin with punction delete\n",
        "        elif list1[i][-1] in list2:\n",
        "          # print(list1[i][-1]) if word finish with punction delete\n",
        "           list1[i] = list1[i].strip(list1[i][-1])\n",
        "         #  print(list1[i])\n",
        "        else:\n",
        "           list1[i] = list1[i] # do not change word\n",
        "        if len(list1[i]) > len(max_word) :\n",
        "          max_word = list1[i]\n",
        "  #  print(max_word)\n",
        "    return max_word\n",
        "      \n",
        "\n",
        "\n",
        "longest_word = longest_word(\"hamlet.txt\")\n",
        "print(longest_word)"
      ],
      "execution_count": null,
      "outputs": [
        {
          "output_type": "stream",
          "text": [
            "Mounted at ./drive/\n",
            "tragical-comical-historical-pastoral\n"
          ],
          "name": "stdout"
        }
      ]
    }
  ]
}